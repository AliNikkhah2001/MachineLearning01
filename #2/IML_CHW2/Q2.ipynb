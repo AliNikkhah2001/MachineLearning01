{
  "cells": [
    {
      "cell_type": "markdown",
      "metadata": {
        "id": "ChC3RF8meAlK"
      },
      "source": [
        "<h1 align=\"center\">Introduction to Machine Learning - 25737-2</h1>\n",
        "<h4 align=\"center\">Dr. R. Amiri</h4>\n",
        "<h4 align=\"center\">Sharif University of Technology, Spring 2024</h4>\n",
        "\n",
        "\n",
        "<link rel=\"preconnect\" href=\"https://fonts.googleapis.com\">\n",
        "<link rel=\"preconnect\" href=\"https://fonts.gstatic.com\" crossorigin>\n",
        "<link href=\"https://fonts.googleapis.com/css2?family=Titillium+Web:ital,wght@0,200;0,300;0,400;0,600;0,700;0,900;1,200;1,300;1,400;1,600;1,700&display=swap\" rel=\"stylesheet\">\n",
        "<div class=\"box\" style=\"padding: 10px; margin: 10px 0; background-color: gray; color: white; border-radius: 5px; font-size: 15px;\">\n",
        "  <table style=\"padding: 10px; margin: auto auto; background-color: gray;  border-radius: 5px; font-size: 15px;\">\n",
        "      <tr>\n",
        "          <th colspan='2'><h1 style=\"text-align: center\">\n",
        "Machine Learning </br>\n",
        "</h1>\n",
        "<h2 style=\"text-align: center\">\n",
        "Course Assignment Two </br>\n",
        "</h2>\n",
        "</th>\n",
        "<tr>\n",
        "    <tr>\n",
        "      <th colspan=\"2\">Personal Info</th>\n",
        "    </tr>\n",
        "    <tr>\n",
        "      <td>First Name:</td>\n",
        "      <td>Ali</td>\n",
        "    </tr>\n",
        "    <tr>\n",
        "      <td>Last Name:</td>\n",
        "      <td>Nikkhah</td>\n",
        "    </tr>\n",
        "    <tr>\n",
        "      <td>Student Number:</td>\n",
        "      <td>99102445</td>\n",
        "    </tr>\n",
        "    <tr>\n",
        "      <td>Github:</td>\n",
        "      <td><a href=\"https://github.com/AliNikkhah2001/MachineLearning02\" target=\"_blank\">https://github.com/AliNikkhah2001/MachineLearning02</a></td>\n",
        "    </tr>\n",
        "  </table>\n",
        "</div>\n",
        "\n"
      ]
    },
    {
      "cell_type": "code",
      "execution_count": null,
      "metadata": {
        "id": "JzSI6bn3BubM"
      },
      "outputs": [],
      "source": [
        "# install CuPy\n",
        "%%capture\n",
        "!pip install chainer"
      ]
    },
    {
      "cell_type": "code",
      "execution_count": null,
      "metadata": {
        "colab": {
          "base_uri": "https://localhost:8080/"
        },
        "id": "QFpIQGIbBubN",
        "outputId": "359d21d2-4686-43ba-c6b4-dd0be614fe54"
      },
      "outputs": [
        {
          "name": "stdout",
          "output_type": "stream",
          "text": [
            "  % Total    % Received % Xferd  Average Speed   Time    Time     Time  Current\n",
            "                                 Dload  Upload   Total   Spent    Left  Speed\n",
            "100  1553  100  1553    0     0   5683      0 --:--:-- --:--:-- --:--:--  5688\n",
            "********************************************************************************\n",
            "CUDA version could not be detected!\n",
            "Try installing Chainer manually by: pip install chainer\n",
            "********************************************************************************\n"
          ]
        }
      ],
      "source": [
        "!curl https://colab.chainer.org/install | sh -\n",
        "import cupy as cp"
      ]
    },
    {
      "cell_type": "code",
      "execution_count": null,
      "metadata": {
        "colab": {
          "base_uri": "https://localhost:8080/"
        },
        "id": "iqtowXEJc9H7",
        "outputId": "92917def-a2cf-4260-a93d-8e351743a457"
      },
      "outputs": [
        {
          "name": "stdout",
          "output_type": "stream",
          "text": [
            "Wed May  1 04:01:04 2024       \n",
            "+---------------------------------------------------------------------------------------+\n",
            "| NVIDIA-SMI 535.104.05             Driver Version: 535.104.05   CUDA Version: 12.2     |\n",
            "|-----------------------------------------+----------------------+----------------------+\n",
            "| GPU  Name                 Persistence-M | Bus-Id        Disp.A | Volatile Uncorr. ECC |\n",
            "| Fan  Temp   Perf          Pwr:Usage/Cap |         Memory-Usage | GPU-Util  Compute M. |\n",
            "|                                         |                      |               MIG M. |\n",
            "|=========================================+======================+======================|\n",
            "|   0  Tesla T4                       Off | 00000000:00:04.0 Off |                    0 |\n",
            "| N/A   39C    P8               9W /  70W |      0MiB / 15360MiB |      0%      Default |\n",
            "|                                         |                      |                  N/A |\n",
            "+-----------------------------------------+----------------------+----------------------+\n",
            "                                                                                         \n",
            "+---------------------------------------------------------------------------------------+\n",
            "| Processes:                                                                            |\n",
            "|  GPU   GI   CI        PID   Type   Process name                            GPU Memory |\n",
            "|        ID   ID                                                             Usage      |\n",
            "|=======================================================================================|\n",
            "|  No running processes found                                                           |\n",
            "+---------------------------------------------------------------------------------------+\n"
          ]
        }
      ],
      "source": [
        "!nvidia-smi"
      ]
    },
    {
      "cell_type": "code",
      "execution_count": null,
      "metadata": {
        "id": "CFhWemPRTGS3"
      },
      "outputs": [],
      "source": [
        "\n",
        "import numpy as np\n",
        "import pandas as pd\n",
        "import matplotlib.pyplot as plt\n",
        "from sklearn.metrics import roc_curve, auc\n",
        "from sklearn.linear_model import LogisticRegression\n",
        "from sklearn.metrics import accuracy_score, precision_score, recall_score, f1_score, confusion_matrix\n",
        "from tqdm import tqdm\n",
        "from sklearn.model_selection import train_test_split, GridSearchCV\n",
        "from sklearn.preprocessing import StandardScaler, OneHotEncoder,LabelEncoder\n",
        "from sklearn.compose import ColumnTransformer\n",
        "from sklearn.pipeline import Pipeline\n",
        "from sklearn.impute import SimpleImputer\n",
        "from sklearn.metrics import accuracy_score\n"
      ]
    },
    {
      "cell_type": "markdown",
      "metadata": {
        "id": "IraiR0SbeDi_"
      },
      "source": [
        "---\n",
        "# Logistic Regression"
      ]
    },
    {
      "cell_type": "markdown",
      "metadata": {
        "id": "nRQjwWC3eDnc"
      },
      "source": [
        "**Task:** Implement your own Logistic Regression model, and test it on the given dataset of Logistic_question.csv!"
      ]
    },
    {
      "cell_type": "code",
      "execution_count": null,
      "metadata": {
        "id": "36S6G5z9Xulv"
      },
      "outputs": [],
      "source": [
        "class LogisticRegression:\n",
        "    def __init__(self, learning_rate=0.01, num_iterations=100):\n",
        "        self.learning_rate = learning_rate\n",
        "        self.num_iterations = num_iterations\n",
        "        self.weights = None\n",
        "        self.bias = None\n",
        "\n",
        "    def sigmoid(self, z):\n",
        "        return 1 / (1 + np.exp(-z))\n",
        "\n",
        "    def calculate_loss(self, y, y_pred):\n",
        "        return -np.mean(y * np.log(y_pred) + (1 - y) * np.log(1 - y_pred))\n",
        "\n",
        "    def calculate_gradient(self, X, y, y_pred):\n",
        "        num_samples = len(y)\n",
        "        dw = (1 / num_samples) * np.dot(X.T, (y_pred - y))\n",
        "        db = (1 / num_samples) * np.sum(y_pred - y)\n",
        "        return dw, db\n",
        "\n",
        "    def fit(self, X, y):\n",
        "        num_samples, num_features = X.shape\n",
        "        self.weights = np.zeros(num_features)\n",
        "        self.bias = 0\n",
        "        loss_values = []\n",
        "\n",
        "        for _ in range(self.num_iterations):\n",
        "            linear_model = np.dot(X, self.weights) + self.bias\n",
        "            y_pred = self.sigmoid(linear_model)\n",
        "            loss = self.calculate_loss(y, y_pred)\n",
        "            loss_values.append(loss)\n",
        "\n",
        "            dw, db = self.calculate_gradient(X, y, y_pred)\n",
        "            self.weights -= self.learning_rate * dw\n",
        "            self.bias -= self.learning_rate * db\n",
        "\n",
        "        # Plot loss vs iteration\n",
        "        plt.plot(loss_values)\n",
        "        plt.xlabel('Iterations')\n",
        "        plt.ylabel('Loss')\n",
        "        plt.title('Loss vs Iteration')\n",
        "        plt.show()\n",
        "\n",
        "        return loss_values\n",
        "\n",
        "    def predict(self, X):\n",
        "        linear_model = np.dot(X, self.weights) + self.bias\n",
        "        y_pred = self.sigmoid(linear_model)\n",
        "        y_pred_cls = [1 if i > 0.5 else 0 for i in y_pred]\n",
        "        return np.array(y_pred_cls)\n",
        "\n",
        "    def calculate_accuracy(self, y_true, y_pred):\n",
        "        return np.mean(y_true == y_pred)\n",
        "\n",
        "    def calculate_precision(self, y_true, y_pred):\n",
        "        true_positives = np.sum((y_true == 1) & (y_pred == 1))\n",
        "        false_positives = np.sum((y_true == 0) & (y_pred == 1))\n",
        "        return true_positives / (true_positives + false_positives + 1e-8)\n",
        "\n",
        "    def calculate_recall(self, y_true, y_pred):\n",
        "        true_positives = np.sum((y_true == 1) & (y_pred == 1))\n",
        "        false_negatives = np.sum((y_true == 1) & (y_pred == 0))\n",
        "        return true_positives / (true_positives + false_negatives + 1e-8)\n",
        "\n",
        "    def calculate_f1(self, y_true, y_pred):\n",
        "        precision = self.calculate_precision(y_true, y_pred)\n",
        "        recall = self.calculate_recall(y_true, y_pred)\n",
        "        return 2 * (precision * recall) / (precision + recall + 1e-8)\n",
        "\n",
        "    def confusion_matrix(self, y_true, y_pred):\n",
        "        TP = np.sum((y_true == 1) & (y_pred == 1))\n",
        "        TN = np.sum((y_true == 0) & (y_pred == 0))\n",
        "        FP = np.sum((y_true == 0) & (y_pred == 1))\n",
        "        FN = np.sum((y_true == 1) & (y_pred == 0))\n",
        "        return TP, TN, FP, FN\n"
      ]
    },
    {
      "cell_type": "markdown",
      "metadata": {
        "id": "S-i-oubUlZ6e"
      },
      "source": [
        "**Task:** Test your model on the given dataset. You must split your data into train and test, with a 0.2 split, then normalize your data using X_train data. Finally, report 4 different evaluation metrics of the model on the test set. (You might want to first make the Target column binary!)"
      ]
    },
    {
      "cell_type": "code",
      "execution_count": null,
      "metadata": {
        "id": "0KXzIy_2u-pG"
      },
      "outputs": [],
      "source": [
        "df = pd.read_csv('Logistic_question.csv')\n",
        "df['Target'] =df['Target'] > 0.5\n",
        "# Split features and target\n",
        "X = df.drop(columns=['Target'])\n",
        "y = df['Target'] > 0.5\n",
        "\n",
        "# Split data into train and test sets\n",
        "X_train, X_test, y_train, y_test = train_test_split(X, y, test_size=0.2, random_state=42)\n"
      ]
    },
    {
      "cell_type": "code",
      "execution_count": null,
      "metadata": {
        "id": "Qk8w5oOlbU3J"
      },
      "outputs": [],
      "source": [
        "def normalize_features(X_train, X_test):\n",
        "    mean = np.mean(X_train, axis=0)\n",
        "    std = np.std(X_train, axis=0)\n",
        "    X_train_normalized = (X_train - mean) / (std + 1e-8)  # Adding a small value to avoid division by zero\n",
        "    X_test_normalized = (X_test - mean) / (std + 1e-8)\n",
        "    return X_train_normalized, X_test_normalized\n",
        "\n",
        "\n"
      ]
    },
    {
      "cell_type": "code",
      "execution_count": null,
      "metadata": {
        "colab": {
          "base_uri": "https://localhost:8080/"
        },
        "id": "aQwfs5stbWqw",
        "outputId": "5ce04b7d-d792-48a9-e674-168984171a2c"
      },
      "outputs": [
        {
          "name": "stdout",
          "output_type": "stream",
          "text": [
            "Normalized X_train:      Feature 1  Feature 2  Feature 3  Feature 4  Feature 5  Feature 6  \\\n",
            "3     0.457111   0.424662  -0.057308   0.127156  -1.059652   0.139866   \n",
            "18    0.102289   0.424662  -0.057308   0.617396  -0.501940   0.361100   \n",
            "202   2.053813   2.085930   1.689221   1.107637   1.171194   2.250095   \n",
            "250   0.279700  -0.572099  -0.057308  -0.363084  -1.059652  -0.030313   \n",
            "274  -0.163828  -1.236607  -1.803837  -1.343565  -1.059652  -1.085428   \n",
            "..         ...        ...        ...        ...        ...        ...   \n",
            "71    1.698990   0.756915   1.689221   1.597877   1.728905   1.994826   \n",
            "106   1.078051   0.590789   0.815957   1.107637   1.171194   1.007783   \n",
            "270  -0.962179  -0.405972  -0.930573  -0.853324  -0.501940  -0.625942   \n",
            "348  -1.317002  -1.402734  -1.803837  -1.343565  -1.617363  -2.276686   \n",
            "102  -0.252534  -0.239846  -0.930573   0.617396   0.055771  -0.574888   \n",
            "\n",
            "     Feature 7  \n",
            "3     0.927613  \n",
            "18   -1.078036  \n",
            "202   0.927613  \n",
            "250   0.927613  \n",
            "274  -1.078036  \n",
            "..         ...  \n",
            "71    0.927613  \n",
            "106   0.927613  \n",
            "270   0.927613  \n",
            "348  -1.078036  \n",
            "102  -1.078036  \n",
            "\n",
            "[320 rows x 7 columns]\n",
            "Normalized X_test:      Feature 1  Feature 2  Feature 3  Feature 4  Feature 5  Feature 6  \\\n",
            "209  -1.405707  -0.572099  -0.057308   0.127156   0.613483  -0.796122   \n",
            "280  -0.518651  -0.904353  -0.057308   1.107637   0.613483   0.088813   \n",
            "33    2.053813   1.089169   1.689221   0.617396   0.613483   1.722538   \n",
            "210   0.723228   0.092408   0.815957   1.107637   0.613483   0.803567   \n",
            "93   -1.405707  -1.734987  -0.930573  -0.363084  -0.501940  -1.204553   \n",
            "..         ...        ...        ...        ...        ...        ...   \n",
            "246  -0.075123  -0.405972  -0.057308  -0.363084   0.055771   0.241974   \n",
            "227  -0.429945   0.424662  -0.930573   0.127156  -0.501940  -0.098385   \n",
            "369  -1.405707  -1.568860  -1.803837  -1.343565  -0.501940  -0.949284   \n",
            "176   1.078051   1.919803   0.815957   1.107637   1.171194   0.973747   \n",
            "289  -0.341240   0.258535  -0.057308   0.617396   0.055771   0.701460   \n",
            "\n",
            "     Feature 7  \n",
            "209   0.927613  \n",
            "280   0.927613  \n",
            "33    0.927613  \n",
            "210   0.927613  \n",
            "93    0.927613  \n",
            "..         ...  \n",
            "246  -1.078036  \n",
            "227  -1.078036  \n",
            "369   0.927613  \n",
            "176   0.927613  \n",
            "289  -1.078036  \n",
            "\n",
            "[80 rows x 7 columns]\n",
            "Encoded y_train: 3      True\n",
            "18     True\n",
            "202    True\n",
            "250    True\n",
            "274    True\n",
            "       ... \n",
            "71     True\n",
            "106    True\n",
            "270    True\n",
            "348    True\n",
            "102    True\n",
            "Name: Target, Length: 320, dtype: bool\n",
            "Encoded y_test: 209     True\n",
            "280     True\n",
            "33      True\n",
            "210     True\n",
            "93     False\n",
            "       ...  \n",
            "246     True\n",
            "227     True\n",
            "369     True\n",
            "176     True\n",
            "289     True\n",
            "Name: Target, Length: 80, dtype: bool\n"
          ]
        }
      ],
      "source": [
        "X_train_normalized, X_test_normalized = normalize_features(X_train, X_test)\n",
        "\n",
        "\n",
        "print(\"Normalized X_train:\", X_train_normalized)\n",
        "print(\"Normalized X_test:\", X_test_normalized)\n",
        "print(\"Encoded y_train:\", y_train)\n",
        "print(\"Encoded y_test:\", y_test)"
      ]
    },
    {
      "cell_type": "code",
      "execution_count": null,
      "metadata": {
        "colab": {
          "base_uri": "https://localhost:8080/"
        },
        "id": "POFbAf-1Z9ia",
        "outputId": "f7345e42-c9cb-4d96-f028-041ebfacab4c"
      },
      "outputs": [
        {
          "name": "stdout",
          "output_type": "stream",
          "text": [
            "   Feature 1  Feature 2  Feature 3  Feature 4  Feature 5  Feature 6  Feature 7\n",
            "0         47       11.8          4        4.5        4.5       9.65          1\n",
            "1         34       10.7          4        4.0        4.5       8.87          1\n",
            "2         26       10.4          3        3.0        3.5       8.00          1\n",
            "3         32       11.0          3        3.5        2.5       8.67          1\n",
            "4         24       10.3          2        2.0        3.0       8.21          0\n",
            "0    True\n",
            "1    True\n",
            "2    True\n",
            "3    True\n",
            "4    True\n",
            "Name: Target, dtype: bool\n"
          ]
        }
      ],
      "source": [
        "print(X.head(5))\n",
        "print(y.head(5))"
      ]
    },
    {
      "cell_type": "code",
      "execution_count": null,
      "metadata": {
        "colab": {
          "base_uri": "https://localhost:8080/",
          "height": 625
        },
        "id": "U0g3X5f7cduZ",
        "outputId": "5b4c98c0-ff54-4c46-efe3-f8963621abfd"
      },
      "outputs": [
        {
          "data": {
            "image/png": "[encoded data removed]",
            "text/plain": [
              "<Figure size 640x480 with 1 Axes>"
            ]
          },
          "metadata": {},
          "output_type": "display_data"
        },
        {
          "name": "stdout",
          "output_type": "stream",
          "text": [
            "Accuracy: 0.875\n",
            "Precision: 0.874999999890625\n",
            "Recall: 0.9999999998571429\n",
            "F1 Score: 0.9333333282311113\n",
            "Confusion Matrix:\n",
            "TP: 70\n",
            "TN: 0\n",
            "FP: 10\n",
            "FN: 0\n"
          ]
        }
      ],
      "source": [
        "    # Initialize and train the model\n",
        "    model = LogisticRegression(learning_rate=0.1, num_iterations=100 )\n",
        "    loss_values = model.fit(X_train_normalized, y_train)\n",
        "\n",
        "    # Make predictions\n",
        "    y_pred = model.predict(X_test_normalized)\n",
        "\n",
        "    # Evaluate the model\n",
        "    accuracy = model.calculate_accuracy(y_test, y_pred)\n",
        "    precision = model.calculate_precision(y_test, y_pred)\n",
        "    recall = model.calculate_recall(y_test, y_pred)\n",
        "    f1 = model.calculate_f1(y_test, y_pred)\n",
        "\n",
        "    # Report the results\n",
        "    print(\"Accuracy:\", accuracy)\n",
        "    print(\"Precision:\", precision)\n",
        "    print(\"Recall:\", recall)\n",
        "    print(\"F1 Score:\", f1)\n",
        "\n",
        "    # Print confusion matrix\n",
        "    TP, TN, FP, FN = model.confusion_matrix(y_test, y_pred)\n",
        "    print(\"Confusion Matrix:\")\n",
        "    print(\"TP:\", TP)\n",
        "    print(\"TN:\", TN)\n",
        "    print(\"FP:\", FP)\n",
        "    print(\"FN:\", FN)\n",
        "\n"
      ]
    },
    {
      "cell_type": "markdown",
      "metadata": {
        "id": "O78x-LWwfwE7"
      },
      "source": [
        "## Now we implement the same class on cupy library on GPU"
      ]
    },
    {
      "cell_type": "code",
      "execution_count": null,
      "metadata": {
        "id": "Ap8A_bmcf3U1"
      },
      "outputs": [],
      "source": [
        "import cupy as cp\n",
        "import matplotlib.pyplot as plt\n",
        "\n",
        "class LogisticRegressionGPU:\n",
        "    def __init__(self, learning_rate=0.01, num_iterations=100, epsilon=5e-2):\n",
        "        self.learning_rate = learning_rate\n",
        "        self.num_iterations = num_iterations\n",
        "        self.epsilon = epsilon\n",
        "        self.weights = None\n",
        "        self.bias = None\n",
        "\n",
        "    def sigmoid(self, z):\n",
        "        return 1 / (1 + cp.exp(-z))\n",
        "\n",
        "    def calculate_loss(self, y, y_pred):\n",
        "        return -cp.mean(y * cp.log(y_pred) + (1 - y) * cp.log(1 - y_pred))\n",
        "\n",
        "    def calculate_gradient(self, X, y, y_pred):\n",
        "        num_samples = len(y)\n",
        "        dw = (1 / num_samples) * cp.dot(X.T, (y_pred - y))\n",
        "        db = (1 / num_samples) * cp.sum(y_pred - y)\n",
        "        return dw, db\n",
        "\n",
        "    def fit(self, X, y):\n",
        "        num_samples, num_features = X.shape\n",
        "        self.weights = cp.zeros(num_features)\n",
        "        self.bias = 0\n",
        "        loss_values = []\n",
        "\n",
        "        for i in range(self.num_iterations):\n",
        "            linear_model = cp.dot(X, self.weights) + self.bias\n",
        "            y_pred = self.sigmoid(linear_model)\n",
        "            loss = self.calculate_loss(y, y_pred)\n",
        "            loss_values.append(loss)\n",
        "\n",
        "            dw, db = self.calculate_gradient(X, y, y_pred)\n",
        "            gradient_norm = cp.sqrt(cp.sum(dw**2) + db**2)\n",
        "            if gradient_norm < self.epsilon:\n",
        "                print(f\"Stopping early at iteration {i} due to small gradient.\")\n",
        "                break\n",
        "\n",
        "            self.weights -= self.learning_rate * dw\n",
        "            self.bias -= self.learning_rate * db\n",
        "\n",
        "        # Convert the loss history from CuPy array to NumPy array before plotting\n",
        "        loss_history_numpy = cp.asnumpy(cp.array(loss_values))\n",
        "        plt.plot(loss_history_numpy)\n",
        "        plt.xlabel('Iteration')\n",
        "        plt.ylabel('Loss')\n",
        "        plt.title('Loss History During Training')\n",
        "        plt.grid(True)\n",
        "        plt.show()\n",
        "\n",
        "        return loss_values\n",
        "\n",
        "    def predict(self, X):\n",
        "        linear_model = cp.dot(X, self.weights) + self.bias\n",
        "        y_pred = self.sigmoid(linear_model)\n",
        "        y_pred_cls = cp.where(y_pred > 0.5, 1, 0)\n",
        "        return y_pred_cls.get()\n",
        "\n",
        "    def calculate_accuracy(self, y_true, y_pred):\n",
        "        return cp.mean(y_true == y_pred)\n",
        "\n",
        "    def calculate_precision(self, y_true, y_pred):\n",
        "        true_positives = cp.sum((y_true == 1) & (y_pred == 1))\n",
        "        false_positives = cp.sum((y_true == 0) & (y_pred == 1))\n",
        "        return true_positives / (true_positives + false_positives + 1e-8)\n",
        "\n",
        "    def calculate_recall(self, y_true, y_pred):\n",
        "        true_positives = cp.sum((y_true == 1) & (y_pred == 1))\n",
        "        false_negatives = cp.sum((y_true == 1) & (y_pred == 0))\n",
        "        return true_positives / (true_positives + false_negatives + 1e-8)\n",
        "\n",
        "    def calculate_f1(self, y_true, y_pred):\n",
        "        precision = self.calculate_precision(y_true, y_pred)\n",
        "        recall = self.calculate_recall(y_true, y_pred)\n",
        "        return 2 * (precision * recall) / (precision + recall + 1e-8)\n",
        "\n",
        "    def confusion_matrix(self, y_true, y_pred):\n",
        "        TP = cp.sum((y_true == 1) & (y_pred == 1))\n",
        "        TN = cp.sum((y_true == 0) & (y_pred == 0))\n",
        "        FP = cp.sum((y_true == 0) & (y_pred == 1))\n",
        "        FN = cp.sum((y_true == 1) & (y_pred == 0))\n",
        "        return TP, TN, FP, FN\n"
      ]
    },
    {
      "cell_type": "code",
      "execution_count": null,
      "metadata": {
        "colab": {
          "base_uri": "https://localhost:8080/",
          "height": 642
        },
        "id": "Ym33qypYgheZ",
        "outputId": "ba9b5752-aab9-4084-d252-df8ba2223f19"
      },
      "outputs": [
        {
          "name": "stdout",
          "output_type": "stream",
          "text": [
            "Stopping early at iteration 31 due to small gradient.\n"
          ]
        },
        {
          "data": {
            "image/png": "[encoded data removed]",
            "text/plain": [
              "<Figure size 640x480 with 1 Axes>"
            ]
          },
          "metadata": {},
          "output_type": "display_data"
        },
        {
          "name": "stdout",
          "output_type": "stream",
          "text": [
            "Accuracy: 0.875\n",
            "Precision: 0.874999999890625\n",
            "Recall: 0.9999999998571429\n",
            "F1 Score: 0.9333333282311113\n",
            "Confusion Matrix:\n",
            "TP: 70\n",
            "TN: 0\n",
            "FP: 10\n",
            "FN: 0\n"
          ]
        }
      ],
      "source": [
        "\n",
        "X_train_gpu = cp.asarray(X_train.values)\n",
        "X_test_gpu = cp.asarray(X_test.values)\n",
        "y_train_gpu = cp.asarray(y_train.values)\n",
        "y_test_gpu = cp.asarray(y_test.values)\n",
        "\n",
        "# Initialize and train the model\n",
        "model = LogisticRegressionGPU(learning_rate=0.1, num_iterations=100)\n",
        "loss_values = model.fit(X_train_gpu, y_train_gpu)\n",
        "\n",
        "# Make predictions on the test set\n",
        "y_pred_gpu = model.predict(X_test_gpu)\n",
        "\n",
        "# Convert CuPy arrays back to NumPy arrays if necessary\n",
        "y_pred_numpy = cp.asnumpy(y_pred_gpu)\n",
        "\n",
        "# Evaluate the model (you may want to transfer y_test_gpu to NumPy if necessary)\n",
        "accuracy = model.calculate_accuracy(cp.asnumpy(y_test_gpu), y_pred_numpy)\n",
        "precision = model.calculate_precision(cp.asnumpy(y_test_gpu), y_pred_numpy)\n",
        "recall = model.calculate_recall(cp.asnumpy(y_test_gpu), y_pred_numpy)\n",
        "f1 = model.calculate_f1(cp.asnumpy(y_test_gpu), y_pred_numpy)\n",
        "\n",
        "\n",
        "# Report the results\n",
        "print(\"Accuracy:\", accuracy)\n",
        "print(\"Precision:\", precision)\n",
        "print(\"Recall:\", recall)\n",
        "print(\"F1 Score:\", f1)\n",
        "\n",
        "\n",
        "# Print confusion matrix\n",
        "TP, TN, FP, FN = model.confusion_matrix(cp.asnumpy(y_test_gpu), y_pred_numpy)\n",
        "print(\"Confusion Matrix:\")\n",
        "print(\"TP:\", TP)\n",
        "print(\"TN:\", TN)\n",
        "print(\"FP:\", FP)\n",
        "print(\"FN:\", FN)"
      ]
    },
    {
      "cell_type": "markdown",
      "metadata": {
        "id": "jV-UiSDKVavi"
      },
      "source": [
        "and we would have gotten worse results if we didn't implement early stopping"
      ]
    },
    {
      "cell_type": "code",
      "execution_count": null,
      "metadata": {
        "id": "2fAnmDTcVlPJ"
      },
      "outputs": [],
      "source": [
        "import cupy as cp\n",
        "import matplotlib.pyplot as plt\n",
        "\n",
        "class LogisticRegressionGPU:\n",
        "    def __init__(self, learning_rate=0.01, num_iterations=100, epsilon=5e-5):\n",
        "        self.learning_rate = learning_rate\n",
        "        self.num_iterations = num_iterations\n",
        "        self.epsilon = epsilon\n",
        "        self.weights = None\n",
        "        self.bias = None\n",
        "\n",
        "    def sigmoid(self, z):\n",
        "        return 1 / (1 + cp.exp(-z))\n",
        "\n",
        "    def calculate_loss(self, y, y_pred):\n",
        "        return -cp.mean(y * cp.log(y_pred) + (1 - y) * cp.log(1 - y_pred))\n",
        "\n",
        "    def calculate_gradient(self, X, y, y_pred):\n",
        "        num_samples = len(y)\n",
        "        dw = (1 / num_samples) * cp.dot(X.T, (y_pred - y))\n",
        "        db = (1 / num_samples) * cp.sum(y_pred - y)\n",
        "        return dw, db\n",
        "\n",
        "    def fit(self, X, y):\n",
        "        num_samples, num_features = X.shape\n",
        "        self.weights = cp.zeros(num_features)\n",
        "        self.bias = 0\n",
        "        loss_values = []\n",
        "\n",
        "        for i in range(self.num_iterations):\n",
        "            linear_model = cp.dot(X, self.weights) + self.bias\n",
        "            y_pred = self.sigmoid(linear_model)\n",
        "            loss = self.calculate_loss(y, y_pred)\n",
        "            loss_values.append(loss)\n",
        "\n",
        "            dw, db = self.calculate_gradient(X, y, y_pred)\n",
        "            gradient_norm = cp.sqrt(cp.sum(dw**2) + db**2)\n",
        "            if gradient_norm < self.epsilon:\n",
        "                print(f\"Stopping early at iteration {i} due to small gradient.\")\n",
        "                break\n",
        "\n",
        "            self.weights -= self.learning_rate * dw\n",
        "            self.bias -= self.learning_rate * db\n",
        "\n",
        "        # Convert the loss history from CuPy array to NumPy array before plotting\n",
        "        loss_history_numpy = cp.asnumpy(cp.array(loss_values))\n",
        "        plt.plot(loss_history_numpy)\n",
        "        plt.xlabel('Iteration')\n",
        "        plt.ylabel('Loss')\n",
        "        plt.title('Loss History During Training')\n",
        "        plt.grid(True)\n",
        "        plt.show()\n",
        "\n",
        "        return loss_values\n",
        "\n",
        "    def predict(self, X):\n",
        "        linear_model = cp.dot(X, self.weights) + self.bias\n",
        "        y_pred = self.sigmoid(linear_model)\n",
        "        y_pred_cls = cp.where(y_pred > 0.5, 1, 0)\n",
        "        return y_pred_cls.get()\n",
        "\n",
        "    def calculate_accuracy(self, y_true, y_pred):\n",
        "        return cp.mean(y_true == y_pred)\n",
        "\n",
        "    def calculate_precision(self, y_true, y_pred):\n",
        "        true_positives = cp.sum((y_true == 1) & (y_pred == 1))\n",
        "        false_positives = cp.sum((y_true == 0) & (y_pred == 1))\n",
        "        return true_positives / (true_positives + false_positives + 1e-8)\n",
        "\n",
        "    def calculate_recall(self, y_true, y_pred):\n",
        "        true_positives = cp.sum((y_true == 1) & (y_pred == 1))\n",
        "        false_negatives = cp.sum((y_true == 1) & (y_pred == 0))\n",
        "        return true_positives / (true_positives + false_negatives + 1e-8)\n",
        "\n",
        "    def calculate_f1(self, y_true, y_pred):\n",
        "        precision = self.calculate_precision(y_true, y_pred)\n",
        "        recall = self.calculate_recall(y_true, y_pred)\n",
        "        return 2 * (precision * recall) / (precision + recall + 1e-8)\n",
        "\n",
        "    def confusion_matrix(self, y_true, y_pred):\n",
        "        TP = cp.sum((y_true == 1) & (y_pred == 1))\n",
        "        TN = cp.sum((y_true == 0) & (y_pred == 0))\n",
        "        FP = cp.sum((y_true == 0) & (y_pred == 1))\n",
        "        FN = cp.sum((y_true == 1) & (y_pred == 0))\n",
        "        return TP, TN, FP, FN\n"
      ]
    },
    {
      "cell_type": "code",
      "execution_count": null,
      "metadata": {
        "colab": {
          "base_uri": "https://localhost:8080/",
          "height": 625
        },
        "id": "2S2qpI7FVo7s",
        "outputId": "6e04091b-c6e5-4c27-b642-9a2d03e67996"
      },
      "outputs": [
        {
          "data": {
            "image/png": "[encoded data removed]",
            "text/plain": [
              "<Figure size 640x480 with 1 Axes>"
            ]
          },
          "metadata": {},
          "output_type": "display_data"
        },
        {
          "name": "stdout",
          "output_type": "stream",
          "text": [
            "Accuracy: 0.9125\n",
            "Precision: 0.9199999998773334\n",
            "Recall: 0.9857142855734695\n",
            "F1 Score: 0.9517241328057077\n",
            "Confusion Matrix:\n",
            "TP: 69\n",
            "TN: 4\n",
            "FP: 6\n",
            "FN: 1\n"
          ]
        }
      ],
      "source": [
        "\n",
        "X_train_gpu = cp.asarray(X_train.values)\n",
        "X_test_gpu = cp.asarray(X_test.values)\n",
        "y_train_gpu = cp.asarray(y_train.values)\n",
        "y_test_gpu = cp.asarray(y_test.values)\n",
        "\n",
        "# Initialize and train the model\n",
        "model = LogisticRegressionGPU(learning_rate=0.1, num_iterations=100)\n",
        "loss_values = model.fit(X_train_gpu, y_train_gpu)\n",
        "\n",
        "# Make predictions on the test set\n",
        "y_pred_gpu = model.predict(X_test_gpu)\n",
        "\n",
        "# Convert CuPy arrays back to NumPy arrays if necessary\n",
        "y_pred_numpy = cp.asnumpy(y_pred_gpu)\n",
        "\n",
        "# Evaluate the model (you may want to transfer y_test_gpu to NumPy if necessary)\n",
        "accuracy = model.calculate_accuracy(cp.asnumpy(y_test_gpu), y_pred_numpy)\n",
        "precision = model.calculate_precision(cp.asnumpy(y_test_gpu), y_pred_numpy)\n",
        "recall = model.calculate_recall(cp.asnumpy(y_test_gpu), y_pred_numpy)\n",
        "f1 = model.calculate_f1(cp.asnumpy(y_test_gpu), y_pred_numpy)\n",
        "\n",
        "\n",
        "# Report the results\n",
        "print(\"Accuracy:\", accuracy)\n",
        "print(\"Precision:\", precision)\n",
        "print(\"Recall:\", recall)\n",
        "print(\"F1 Score:\", f1)\n",
        "\n",
        "\n",
        "# Print confusion matrix\n",
        "TP, TN, FP, FN = model.confusion_matrix(cp.asnumpy(y_test_gpu), y_pred_numpy)\n",
        "print(\"Confusion Matrix:\")\n",
        "print(\"TP:\", TP)\n",
        "print(\"TN:\", TN)\n",
        "print(\"FP:\", FP)\n",
        "print(\"FN:\", FN)"
      ]
    },
    {
      "cell_type": "markdown",
      "metadata": {
        "id": "Ji0RXNGKv1pa"
      },
      "source": [
        "**Question:** What are each of your used evaluation metrics? And for each one, mention situations in which they convey more data on the model performance in specific tasks."
      ]
    },
    {
      "cell_type": "markdown",
      "metadata": {
        "id": "ldveD35twRRZ"
      },
      "source": [
        "**GPU trained without early stopping :**\n",
        "\n",
        "1. **Accuracy**: 0.925\n",
        "2. **Precision**: 0.9324324323064281\n",
        "3. **Recall**: 0.9857142855734695\n",
        "4. **F1 Score**: 0.9583333282040897\n",
        "\n",
        "**GPU trained with early stopping :**\n",
        "\n",
        "1. **Accuracy**: 0.875\n",
        "2. **Precision**: 0.874999999890625\n",
        "3. **Recall**: 0.9999999998571429\n",
        "4. **F1 Score**: 0.9333333282311113\n",
        "\n",
        "\n",
        "1. **Accuracy**:\n",
        "   - Accuracy represents the proportion of correctly classified instances among all instances. It's a general measure of model performance.\n",
        "   - It's useful when classes are balanced, meaning there are roughly an equal number of instances for each class.\n",
        "   - However, it can be misleading when classes are imbalanced because high accuracy can be achieved by simply predicting the majority class.\n",
        "\n",
        "2. **Precision**:\n",
        "   - Precision measures the proportion of true positive predictions among all positive predictions.\n",
        "   - It's particularly important in tasks where false positives are costly or undesirable, such as medical diagnoses or fraud detection.\n",
        "   - A high precision indicates that the model is good at avoiding false positives, even if it may miss some true positives.\n",
        "\n",
        "3. **Recall**:\n",
        "   - Recall, also known as sensitivity or true positive rate, measures the proportion of true positive predictions among all actual positive instances.\n",
        "   - It's crucial in tasks where it's important to capture all positive instances, even at the cost of higher false positives.\n",
        "   - For example, in disease detection, high recall ensures that as many true cases as possible are identified, even if it means some healthy individuals are misclassified as positive.\n",
        "\n",
        "4. **F1 Score**:\n",
        "   - The F1 score is the harmonic mean of precision and recall, providing a balance between the two metrics.\n",
        "   - It's useful when there's an uneven class distribution or when both false positives and false negatives are important.\n",
        "   - A high F1 score indicates both high precision and high recall, making it a good overall measure of model performance.\n",
        "\n",
        "- The model achieves high accuracy, indicating overall good performance.\n",
        "- High precision suggests that the model is precise in its positive predictions.\n",
        "- High recall indicates that the model effectively captures most positive instances.\n",
        "- The F1 score combines precision and recall, providing a balanced assessment of the model's performance."
      ]
    },
    {
      "cell_type": "markdown",
      "metadata": {
        "id": "1ZCeRHZSw-mh"
      },
      "source": [
        "**Task:** Now test the built-in function of Python for Logistic Regression, and report all the same metrics used before."
      ]
    },
    {
      "cell_type": "markdown",
      "metadata": {
        "id": "sXaqklfrTy7h"
      },
      "source": [
        "**Built-in Logistic Regression:**\n",
        "- Accuracy: 0.9375\n",
        "- Precision: 0.9333333333333333\n",
        "- Recall: 1.0\n",
        "- F1 Score: 0.9655172413793104\n"
      ]
    },
    {
      "cell_type": "code",
      "execution_count": null,
      "metadata": {
        "colab": {
          "base_uri": "https://localhost:8080/",
          "height": 625
        },
        "id": "IOiiqDgtqWPT",
        "outputId": "79924a62-d828-4f0a-8d86-50a9b9c8804b"
      },
      "outputs": [
        {
          "data": {
            "image/png": "[encoded data removed]",
            "text/plain": [
              "<Figure size 640x480 with 1 Axes>"
            ]
          },
          "metadata": {},
          "output_type": "display_data"
        },
        {
          "name": "stdout",
          "output_type": "stream",
          "text": [
            "Accuracy: 0.875\n",
            "Precision: 0.875\n",
            "Recall: 1.0\n",
            "F1 Score: 0.9333333333333333\n",
            "Confusion Matrix:\n",
            "TP: 70\n",
            "FP: 10\n",
            "FN: 0\n",
            "TN: 0\n"
          ]
        }
      ],
      "source": [
        "\n",
        "model = LogisticRegression()\n",
        "model.fit(X_train, y_train)\n",
        "\n",
        "# Make predictions on the test set\n",
        "y_pred = model.predict(X_test)\n",
        "\n",
        "# Calculate evaluation metrics\n",
        "accuracy = accuracy_score(y_test, y_pred)\n",
        "precision = precision_score(y_test, y_pred)\n",
        "recall = recall_score(y_test, y_pred)\n",
        "f1 = f1_score(y_test, y_pred)\n",
        "\n",
        "# Calculate confusion matrix\n",
        "conf_matrix = confusion_matrix(y_test, y_pred)\n",
        "TP, FP, FN, TN = conf_matrix[1, 1], conf_matrix[0, 1], conf_matrix[1, 0], conf_matrix[0, 0]\n",
        "\n",
        "# Print the evaluation metrics\n",
        "print(\"Accuracy:\", accuracy)\n",
        "print(\"Precision:\", precision)\n",
        "print(\"Recall:\", recall)\n",
        "print(\"F1 Score:\", f1)\n",
        "print(\"Confusion Matrix:\")\n",
        "print(\"TP:\", TP)\n",
        "print(\"FP:\", FP)\n",
        "print(\"FN:\", FN)\n",
        "print(\"TN:\", TN)\n"
      ]
    },
    {
      "cell_type": "markdown",
      "metadata": {
        "id": "RCvIymmMy_ji"
      },
      "source": [
        "**Question:** Compare your function with the built-in function. On the matters of performance and parameters. Briefly explain what the parameters of the built-in function are and how they affect the model's performance?"
      ]
    },
    {
      "cell_type": "markdown",
      "metadata": {
        "id": "EY0ohM16z3De"
      },
      "source": [
        "\n",
        "\n",
        "**Built-in Logistic Regression:**\n",
        "- Accuracy: 0.9375\n",
        "- Precision: 0.9333333333333333\n",
        "- Recall: 1.0\n",
        "- F1 Score: 0.9655172413793104\n",
        "\n",
        "\n",
        "**GPU trained without early stopping:**\n",
        "\n",
        "1. **Accuracy**: 0.925\n",
        "2. **Precision**: 0.9324324323064281\n",
        "3. **Recall**: 0.9857142855734695\n",
        "4. **F1 Score**: 0.9583333282040897\n",
        "\n",
        "**GPU trained with early stopping:**\n",
        "\n",
        "1. **Accuracy**: 0.875\n",
        "2. **Precision**: 0.874999999890625\n",
        "3. **Recall**: 0.9999999998571429\n",
        "4. **F1 Score**: 0.9333333282311113\n",
        "\n",
        "Comparing the performance:\n",
        "- The built-in function achieves slightly higher accuracy, precision, recall, and F1 score compared to the custom implementation.\n",
        "- The built-in function correctly identifies all true positive instances, resulting in a higher recall of 1.0, while the custom implementation has a recall of 0.9857.\n",
        "\n",
        "Parameters of the built-in function:\n",
        "- The built-in Logistic Regression function in scikit-learn has several parameters that affect the model's performance, including:\n",
        "  - `penalty`: Specifies the norm used in the penalization (e.g., L1 or L2 regularization).\n",
        "  - `C`: Inverse of regularization strength; smaller values specify stronger regularization.\n",
        "  - `solver`: Algorithm to use in the optimization problem (e.g., 'liblinear', 'lbfgs', 'sag', 'saga').\n",
        "  - `max_iter`: Maximum number of iterations for optimization algorithms.\n",
        "  - Other parameters such as class_weight, multi_class, and random_state can also influence the model's behavior.\n",
        "\n",
        "How parameters affect the model's performance:\n",
        "- The choice of penalty and C values influences the level of regularization, which can prevent overfitting and improve generalization to unseen data.\n",
        "- The selection of solver affects the optimization algorithm used, which can impact convergence speed and accuracy.\n",
        "- Increasing max_iter may be necessary for the optimization algorithm to converge, especially for large datasets or complex models.\n",
        "\n"
      ]
    },
    {
      "cell_type": "markdown",
      "metadata": {
        "id": "ClMqoYlr2kr7"
      },
      "source": [
        "---\n",
        "# Multinomial Logistic Regression"
      ]
    },
    {
      "cell_type": "markdown",
      "metadata": {
        "id": "ukvlqDe52xP5"
      },
      "source": [
        "**Task:** Implement your own Multinomial Logistic Regression model. Your model must be able to handle any number of labels!"
      ]
    },
    {
      "cell_type": "code",
      "execution_count": null,
      "metadata": {
        "colab": {
          "base_uri": "https://localhost:8080/"
        },
        "id": "aG6FZ21dKC4y",
        "outputId": "2b76096b-c79d-45b4-f285-d3b4f31fdd3a"
      },
      "outputs": [
        {
          "name": "stdout",
          "output_type": "stream",
          "text": [
            "All test cases passed successfully!\n"
          ]
        }
      ],
      "source": [
        "def softmax(z):\n",
        "    if z.ndim == 1:\n",
        "        exp_z = cp.exp(z - cp.max(z))\n",
        "        return exp_z / cp.sum(exp_z)\n",
        "    else:\n",
        "        exp_z = cp.exp(z - cp.max(z, axis=1, keepdims=True))\n",
        "        return exp_z / cp.sum(exp_z, axis=1, keepdims=True)\n",
        "\n",
        "def test_softmax():\n",
        "    # Test case 1: Single input vector\n",
        "    z1 = cp.array([1, 2, 3])\n",
        "    softmax_output1 = softmax(z1)\n",
        "    expected_output1 = cp.array([0.09003057, 0.24472847, 0.66524096])\n",
        "    assert cp.allclose(softmax_output1, expected_output1), \"Test case 1 failed\"\n",
        "\n",
        "    # Test case 2: Batch input vectors\n",
        "    z2 = cp.array([[1, 2, 3],\n",
        "                   [6,5,4],\n",
        "                   [7, 8, 9]])\n",
        "    softmax_output2 = softmax(z2)\n",
        "    expected_output2 = cp.array([[0.09003057, 0.24472847, 0.66524096],\n",
        "                                 [0.66524096, 0.24472847, 0.09003057],\n",
        "                                 [0.09003057, 0.24472847, 0.66524096]])\n",
        "    assert cp.allclose(softmax_output2, expected_output2), \"Test case 2 failed\"\n",
        "\n",
        "    print(\"All test cases passed successfully!\")\n",
        "test_softmax()"
      ]
    },
    {
      "cell_type": "code",
      "execution_count": null,
      "metadata": {
        "colab": {
          "base_uri": "https://localhost:8080/",
          "height": 489
        },
        "id": "rv-OdWvldDEr",
        "outputId": "74382dfc-bfd6-4819-9f24-0012d512a9e2"
      },
      "outputs": [
        {
          "data": {
            "image/png": "[encoded data removed]",
            "text/plain": [
              "<Figure size 640x480 with 1 Axes>"
            ]
          },
          "metadata": {},
          "output_type": "display_data"
        },
        {
          "name": "stdout",
          "output_type": "stream",
          "text": [
            "Accuracy on test set: 0.875\n"
          ]
        }
      ],
      "source": [
        "class MultinomialLogisticRegressionGPU:\n",
        "    def __init__(self, learning_rate=0.01, max_iter=100, tolerance=1e-7):\n",
        "        self.learning_rate = learning_rate\n",
        "        self.max_iter = max_iter\n",
        "        self.tolerance = tolerance\n",
        "        self.loss_history = []\n",
        "\n",
        "    def fit(self, X, y):\n",
        "        n_classes = cp.unique(y).size\n",
        "        n_samples, n_features = X.shape\n",
        "        self.weights = cp.random.randn(n_features, n_classes)\n",
        "        y_encoded = cp.eye(n_classes)[y.flatten().astype(int)]\n",
        "\n",
        "        for i in range(self.max_iter):\n",
        "            scores = cp.dot(X, self.weights)\n",
        "            probabilities = cp.exp(scores - cp.max(scores, axis=1, keepdims=True))\n",
        "            probabilities /= cp.sum(probabilities, axis=1, keepdims=True)\n",
        "            errors = probabilities - y_encoded\n",
        "            gradient = cp.dot(X.T, errors) / n_samples\n",
        "            self.weights -= self.learning_rate * gradient\n",
        "            loss = -cp.sum(y_encoded * cp.log(probabilities + 1e-8)) / n_samples\n",
        "            self.loss_history.append(loss)\n",
        "\n",
        "            if cp.linalg.norm(gradient) < self.tolerance:\n",
        "                break\n",
        "\n",
        "    def predict(self, X):\n",
        "        scores = cp.dot(X, self.weights)\n",
        "        probabilities = cp.exp(scores - cp.max(scores, axis=1, keepdims=True))\n",
        "        probabilities /= cp.sum(probabilities, axis=1, keepdims=True)\n",
        "        return cp.argmax(probabilities, axis=1)\n",
        "    def calculate_accuracy(self, y_true, y_pred):\n",
        "        return accuracy_score(y_true, y_pred)\n",
        "X = df.drop(columns=['Target']).values\n",
        "y = pd.Categorical(df['Target']).codes\n",
        "X_train, X_test, y_train, y_test = train_test_split(X, y, test_size=0.2, random_state=42)\n",
        "\n",
        "model = MultinomialLogisticRegressionGPU()\n",
        "model.fit(cp.asarray(X_train), cp.asarray(y_train))\n",
        "y_pred = model.predict(cp.asarray(X_test))\n",
        "accuracy = model.calculate_accuracy(y_test, cp.asnumpy(y_pred))\n",
        "\n",
        "# Convert the loss history from CuPy array to NumPy array before plotting\n",
        "loss_history_numpy = cp.asnumpy(cp.array(model.loss_history))\n",
        "\n",
        "plt.plot(loss_history_numpy)\n",
        "plt.xlabel('Iteration')\n",
        "plt.ylabel('Loss')\n",
        "plt.title('Loss History During Training')\n",
        "plt.grid(True)\n",
        "plt.show()\n",
        "\n",
        "print(f\"Accuracy on test set: {accuracy}\")\n",
        "\n"
      ]
    },
    {
      "cell_type": "code",
      "execution_count": null,
      "metadata": {
        "id": "cU7n41gVP9El"
      },
      "outputs": [],
      "source": [
        "def quantize_target(df, target_column, num_levels):\n",
        "    \"\"\"\n",
        "    Quantizes the target column into the specified number of levels.\n",
        "\n",
        "    Parameters:\n",
        "    - df: DataFrame containing the dataset.\n",
        "    - target_column: Name of the target column to be quantized.\n",
        "    - num_levels: Number of levels to quantize the target column into.\n",
        "\n",
        "    Returns:\n",
        "    - DataFrame with the quantized target column.\n",
        "    \"\"\"\n",
        "    # Create a new column for the quantized target\n",
        "    quantized_target_column = f'{target_column}'\n",
        "\n",
        "    # Quantize the target column into num_levels levels\n",
        "    df[quantized_target_column] = pd.cut(df[target_column], bins=num_levels, labels=False)\n",
        "\n",
        "    return df\n",
        "\n",
        "\n",
        "df = pd.read_csv('Logistic_question.csv')\n",
        "df = quantize_target(df,'Target',6)\n"
      ]
    },
    {
      "cell_type": "code",
      "execution_count": null,
      "metadata": {
        "colab": {
          "base_uri": "https://localhost:8080/"
        },
        "id": "Vjr-md2v2kOR",
        "outputId": "04ea8d8f-6047-409c-dd9a-10ebccaabac9"
      },
      "outputs": [
        {
          "name": "stdout",
          "output_type": "stream",
          "text": [
            "     Feature 1  Feature 2  Feature 3  Feature 4  Feature 5  Feature 6  \\\n",
            "0           47       11.8          4        4.5        4.5       9.65   \n",
            "1           34       10.7          4        4.0        4.5       8.87   \n",
            "2           26       10.4          3        3.0        3.5       8.00   \n",
            "3           32       11.0          3        3.5        2.5       8.67   \n",
            "4           24       10.3          2        2.0        3.0       8.21   \n",
            "..         ...        ...        ...        ...        ...        ...   \n",
            "395         34       11.0          3        3.5        3.5       9.04   \n",
            "396         35       10.7          3        3.0        3.5       9.11   \n",
            "397         40       11.6          4        5.0        4.5       9.45   \n",
            "398         22       10.3          3        3.5        4.0       8.78   \n",
            "399         43       11.7          4        5.0        4.0       9.66   \n",
            "\n",
            "     Feature 7  Target  \n",
            "0            1       5  \n",
            "1            1       3  \n",
            "2            1       3  \n",
            "3            1       4  \n",
            "4            0       2  \n",
            "..         ...     ...  \n",
            "395          1       4  \n",
            "396          1       4  \n",
            "397          1       5  \n",
            "398          0       3  \n",
            "399          1       5  \n",
            "\n",
            "[400 rows x 8 columns]\n"
          ]
        }
      ],
      "source": [
        "# Display the DataFrame with the quantized target column\n",
        "print(df)"
      ]
    },
    {
      "cell_type": "markdown",
      "metadata": {
        "id": "zPQ3Rtay3Y2_"
      },
      "source": [
        "**Task:** Test your model on the given dataset. Do the same as the previous part, but here you might want to first make the Target column quantized into $i$ levels. Change $i$ from 2 to 10."
      ]
    },
    {
      "cell_type": "markdown",
      "metadata": {
        "id": "Of2sHl5Z4dXi"
      },
      "source": [
        "**Question:** Report for which $i$ your model performs best. Describe and analyze the results! You could use visualizations or any other method!"
      ]
    },
    {
      "cell_type": "code",
      "execution_count": null,
      "metadata": {
        "colab": {
          "base_uri": "https://localhost:8080/",
          "height": 506
        },
        "id": "5Ir-_hFt286t",
        "outputId": "7de7c5bc-d8a0-4e4d-ae55-8cf75acb0689"
      },
      "outputs": [
        {
          "name": "stderr",
          "output_type": "stream",
          "text": [
            "100%|██████████| 9/9 [00:01<00:00,  6.74it/s]\n"
          ]
        },
        {
          "data": {
            "image/png": "[encoded data removed]",
            "text/plain": [
              "<Figure size 640x480 with 1 Axes>"
            ]
          },
          "metadata": {},
          "output_type": "display_data"
        },
        {
          "name": "stdout",
          "output_type": "stream",
          "text": [
            "Best value of i (number of levels): 2\n"
          ]
        }
      ],
      "source": [
        "class MultinomialLogisticRegressionGPU:\n",
        "    def __init__(self, learning_rate=0.01, max_iter=100, tolerance=1e-7):\n",
        "        self.learning_rate = learning_rate\n",
        "        self.max_iter = max_iter\n",
        "        self.tolerance = tolerance\n",
        "\n",
        "    def fit(self, X, y):\n",
        "        # Number of classes\n",
        "        n_classes = cp.unique(y).size\n",
        "\n",
        "        # Initialize weights\n",
        "        n_samples, n_features = X.shape\n",
        "        self.weights = cp.random.randn(n_features, n_classes)\n",
        "\n",
        "        # One-hot encode targets using cupy\n",
        "        y_encoded = cp.eye(n_classes)[y.flatten().astype(int)]\n",
        "\n",
        "        # Gradient descent\n",
        "        for i in range(self.max_iter):\n",
        "            scores = cp.dot(X, self.weights)\n",
        "            probabilities = cp.exp(scores) / cp.sum(cp.exp(scores), axis=1, keepdims=True)\n",
        "            errors = probabilities - y_encoded\n",
        "            gradient = cp.dot(X.T, errors) / n_samples\n",
        "            self.weights -= self.learning_rate * gradient\n",
        "\n",
        "            # Convergence check\n",
        "            if cp.linalg.norm(gradient) < self.tolerance:\n",
        "                break\n",
        "\n",
        "    def predict(self, X):\n",
        "        scores = cp.dot(X, self.weights)\n",
        "        probabilities = cp.exp(scores) / cp.sum(cp.exp(scores), axis=1, keepdims=True)\n",
        "        return cp.argmax(probabilities, axis=1)\n",
        "\n",
        "    def calculate_accuracy(self, y_true, y_pred):\n",
        "        return accuracy_score(y_true, y_pred)\n",
        "\n",
        "\n",
        "accuracies = []\n",
        "num_levels_range = range(2, 11)\n",
        "\n",
        "for num_levels in tqdm(num_levels_range):\n",
        "    # Quantize the target column into the specified number of levels\n",
        "    quantized_df = quantize_target(df.copy(), 'Target', num_levels)\n",
        "    # Split features and target\n",
        "    X_quantized = quantized_df.drop(columns=['Target']).to_numpy()\n",
        "    y_quantized = quantized_df['Target'].to_numpy()\n",
        "    # Split data into train and test sets\n",
        "    X_train, X_test, y_train, y_test = train_test_split(X_quantized, y_quantized, test_size=0.2, random_state=42)\n",
        "\n",
        "    # Train the multinomial model\n",
        "    model = MultinomialLogisticRegressionGPU()\n",
        "    model.fit(cp.asarray(X_train), cp.asarray(y_train))\n",
        "\n",
        "    # Predict on the test set\n",
        "    y_pred = model.predict(cp.asarray(X_train))\n",
        "\n",
        "    # Calculate accuracy and append to the list\n",
        "    accuracy = model.calculate_accuracy(y_train, cp.asnumpy(y_pred))\n",
        "    accuracies.append(accuracy)\n",
        "\n",
        "# Plot accuracy vs number of levels\n",
        "plt.plot(num_levels_range, accuracies, marker='o')\n",
        "plt.xlabel('Number of Levels (i)')\n",
        "plt.ylabel('Accuracy')\n",
        "plt.title('Accuracy vs Number of Levels')\n",
        "plt.grid(True)\n",
        "plt.show()\n",
        "\n",
        "# Report the best value of i (number of levels) based on highest accuracy\n",
        "best_i = num_levels_range[np.argmax(accuracies)]\n",
        "print(f\"Best value of i (number of levels): {best_i}\")"
      ]
    },
    {
      "cell_type": "markdown",
      "metadata": {
        "id": "cRLERDAr4wnS"
      },
      "source": [
        "**Your answer:**\n",
        "as we could have imagined earlier, the pure chance of guessing between n classes, given equal distribution of them, is proportioal to 1/n\n",
        "so the phenomenon is occurured mainly because:\n",
        "\n",
        "1. **Increased Complexity**: With more classes, the classification problem becomes inherently more complex. The model needs to differentiate among more categories, which can be challenging especially if some of the categories are similar to each other or if the features do not contain enough information to distinctly classify all categories.\n",
        "\n",
        "2. **Data Imbalance**: More classes can lead to increased imbalance in the dataset. If some classes have significantly fewer samples compared to others, the model may struggle to learn robust features for these underrepresented classes, leading to poorer overall performance.\n",
        "\n",
        "3. **Decrease in Decision Boundaries Quality**: Multinomial logistic regression models the probability of each class as a function of the input using a softmax function. As the number of classes increases, the model must fit more parameters (more sets of weights and biases). This increase in parameters can lead to more complex decision boundaries, which might not generalize well especially if the training data is limited or if the classes are not well-separated.\n",
        "\n",
        "4. **Increased Risk of Overfitting**: With more classes and thus more parameters to estimate, there is a higher risk of overfitting, particularly if the amount of data does not grow proportionally with the number of classes. Overfitting results in a model that performs well on training data but poorly on unseen test data.\n",
        "\n",
        "5. **Dilution of Probabilities**: In multinomial logistic regression, the output probabilities of belonging to each class must sum up to one. With more classes, the probability mass is spread thinner across more potential outcomes. This can make it more difficult for the model to have high confidence in any single class, reducing the likelihood that the predicted class (the one with the highest probability) is the correct class.\n"
      ]
    },
    {
      "cell_type": "code",
      "execution_count": null,
      "metadata": {
        "colab": {
          "base_uri": "https://localhost:8080/",
          "height": 345
        },
        "id": "xc36Y5LmWK-_",
        "outputId": "d6e93cf2-d83c-4635-f84d-7003167a631d"
      },
      "outputs": [
        {
          "name": "stderr",
          "output_type": "stream",
          "text": [
            "100%|██████████| 9/9 [00:00<00:00, 12.53it/s]\n"
          ]
        },
        {
          "data": {
            "image/png": "[encoded data removed]",
            "text/plain": [
              "<Figure size 1000x500 with 2 Axes>"
            ]
          },
          "metadata": {},
          "output_type": "display_data"
        }
      ],
      "source": [
        "class MultinomialLogisticRegressionGPU:\n",
        "    def __init__(self, learning_rate=0.01, max_iter=100, tolerance=1e-7):\n",
        "        self.learning_rate = learning_rate\n",
        "        self.max_iter = max_iter\n",
        "        self.tolerance = tolerance\n",
        "\n",
        "    def fit(self, X, y):\n",
        "        # Number of classes\n",
        "        n_classes = cp.unique(y).size\n",
        "\n",
        "        # Initialize weights\n",
        "        n_samples, n_features = X.shape\n",
        "        self.weights = cp.random.randn(n_features, n_classes)\n",
        "\n",
        "        # One-hot encode targets using cupy\n",
        "        y_encoded = cp.eye(n_classes)[y.flatten().astype(int)]\n",
        "\n",
        "        # Initialize loss history\n",
        "        self.loss_history = []\n",
        "\n",
        "        # Gradient descent\n",
        "        for i in range(self.max_iter):\n",
        "            scores = cp.dot(X, self.weights)\n",
        "            probabilities = cp.exp(scores) / cp.sum(cp.exp(scores), axis=1, keepdims=True)\n",
        "            errors = probabilities - y_encoded\n",
        "            gradient = cp.dot(X.T, errors) / n_samples\n",
        "            self.weights -= self.learning_rate * gradient\n",
        "\n",
        "            # Calculate and record loss\n",
        "            loss = -cp.sum(y_encoded * cp.log(probabilities)) / n_samples\n",
        "            self.loss_history.append(loss)\n",
        "\n",
        "            # Convergence check\n",
        "            if cp.linalg.norm(gradient) < self.tolerance:\n",
        "                break\n",
        "\n",
        "    def predict(self, X):\n",
        "        scores = cp.dot(X, self.weights)\n",
        "        probabilities = cp.exp(scores) / cp.sum(cp.exp(scores), axis=1, keepdims=True)\n",
        "        return cp.argmax(probabilities, axis=1)\n",
        "\n",
        "    def calculate_accuracy(self, y_true, y_pred):\n",
        "        return accuracy_score(y_true, y_pred)\n",
        "\n",
        "\n",
        "accuracies = []\n",
        "loss_histories = []\n",
        "num_levels_range = range(2, 11)\n",
        "\n",
        "for num_levels in tqdm(num_levels_range):\n",
        "    # Quantize the target column into the specified number of levels\n",
        "    quantized_df = quantize_target(df.copy(), 'Target', num_levels)\n",
        "    # Split features and target\n",
        "    X_quantized = quantized_df.drop(columns=['Target']).to_numpy()\n",
        "    y_quantized = quantized_df['Target'].to_numpy()\n",
        "    # Split data into train and test sets\n",
        "    X_train, X_test, y_train, y_test = train_test_split(X_quantized, y_quantized, test_size=0.2, random_state=42)\n",
        "\n",
        "    # Train the multinomial model\n",
        "    model = MultinomialLogisticRegressionGPU()\n",
        "    model.fit(cp.asarray(X_train), cp.asarray(y_train))\n",
        "\n",
        "    # Predict on the test set\n",
        "    y_pred = model.predict(cp.asarray(X_train))\n",
        "\n",
        "    # Calculate accuracy and append to the list\n",
        "    accuracy = model.calculate_accuracy(y_train, cp.asnumpy(y_pred))\n",
        "    accuracies.append(accuracy)\n",
        "\n",
        "    # Store loss history\n",
        "    loss_histories.append(model.loss_history)\n",
        "\n",
        "# Plot accuracy vs number of levels\n",
        "plt.figure(figsize=(10, 5))\n",
        "plt.subplot(1, 2, 1)\n",
        "plt.plot(num_levels_range, accuracies, marker='o')\n",
        "plt.xlabel('Number of Levels (i)')\n",
        "plt.ylabel('Accuracy')\n",
        "plt.title('Accuracy vs Number of Levels')\n",
        "plt.grid(True)\n",
        "\n",
        "# Plot loss history for different levels\n",
        "plt.subplot(1, 2, 2)\n",
        "for i, loss_history in enumerate(loss_histories):\n",
        "    plt.plot(np.arange(len(loss_history)), [x.get() for x in loss_history], label=f'Level {num_levels_range[i]}')\n",
        "plt.xlabel('Iteration')\n",
        "plt.ylabel('Loss')\n",
        "plt.title('Loss History')\n",
        "plt.legend()\n",
        "plt.grid(True)\n",
        "plt.tight_layout()\n",
        "plt.show()\n",
        "\n",
        "\n"
      ]
    },
    {
      "cell_type": "markdown",
      "metadata": {
        "id": "wT43jGKV6CBZ"
      },
      "source": [
        "\n",
        "\n",
        "---\n",
        "\n",
        "\n",
        "# Going a little further!"
      ]
    },
    {
      "cell_type": "markdown",
      "metadata": {
        "id": "Vo9uGo0R6GZo"
      },
      "source": [
        "First we download Adult income dataset from Kaggle! In order to do this create an account on this website, and create an API. A file named kaggle.json will be downloaded to your device. Then use the following code:"
      ]
    },
    {
      "cell_type": "markdown",
      "metadata": {
        "id": "5i6u6_1v8ftX"
      },
      "source": [
        "Then use this code to automatically download the dataset into Colab."
      ]
    },
    {
      "cell_type": "markdown",
      "metadata": {
        "id": "EXQnbZwt8rJK"
      },
      "source": [
        "**Task:** Determine the number of null entries!"
      ]
    },
    {
      "cell_type": "code",
      "execution_count": 211,
      "metadata": {
        "colab": {
          "base_uri": "https://localhost:8080/"
        },
        "id": "JtuEx6QW29c1",
        "outputId": "3ce4f236-4f95-42ae-cfce-2d51937abd69"
      },
      "outputs": [
        {
          "output_type": "stream",
          "name": "stdout",
          "text": [
            "   age  workclass  fnlwgt     education  educational-num      marital-status  \\\n",
            "0   25    Private  226802          11th                7       Never-married   \n",
            "1   38    Private   89814       HS-grad                9  Married-civ-spouse   \n",
            "2   28  Local-gov  336951    Assoc-acdm               12  Married-civ-spouse   \n",
            "3   44    Private  160323  Some-college               10  Married-civ-spouse   \n",
            "4   18          ?  103497  Some-college               10       Never-married   \n",
            "\n",
            "          occupation relationship   race  gender  capital-gain  capital-loss  \\\n",
            "0  Machine-op-inspct    Own-child  Black    Male             0             0   \n",
            "1    Farming-fishing      Husband  White    Male             0             0   \n",
            "2    Protective-serv      Husband  White    Male             0             0   \n",
            "3  Machine-op-inspct      Husband  Black    Male          7688             0   \n",
            "4                  ?    Own-child  White  Female             0             0   \n",
            "\n",
            "   hours-per-week native-country income  \n",
            "0              40  United-States  <=50K  \n",
            "1              50  United-States  <=50K  \n",
            "2              40  United-States   >50K  \n",
            "3              40  United-States   >50K  \n",
            "4              30  United-States  <=50K  \n"
          ]
        }
      ],
      "source": [
        "# Load the dataset\n",
        "df = pd.read_csv('adult.csv')\n",
        "print(df.head(5))"
      ]
    },
    {
      "cell_type": "code",
      "execution_count": 212,
      "metadata": {
        "colab": {
          "base_uri": "https://localhost:8080/"
        },
        "id": "wl3eR0rFZwcM",
        "outputId": "1b793bb3-42a4-4d2a-e911-06ef0dfafd58"
      },
      "outputs": [
        {
          "output_type": "stream",
          "name": "stdout",
          "text": [
            "age                   0\n",
            "workclass          2799\n",
            "fnlwgt                0\n",
            "education             0\n",
            "educational-num       0\n",
            "marital-status        0\n",
            "occupation         2809\n",
            "relationship          0\n",
            "race                  0\n",
            "gender                0\n",
            "capital-gain          0\n",
            "capital-loss          0\n",
            "hours-per-week        0\n",
            "native-country      857\n",
            "income                0\n",
            "dtype: int64\n"
          ]
        }
      ],
      "source": [
        "# Check for null values\n",
        "null_counts = df.isin(['?']).sum()\n",
        "print(null_counts)\n",
        "\n"
      ]
    },
    {
      "cell_type": "code",
      "execution_count": 213,
      "metadata": {
        "id": "02F9yOwBo1I6"
      },
      "outputs": [],
      "source": [
        "df['workclass']=df['workclass'].replace('?',np.nan)\n",
        "df['occupation']=df['occupation'].replace('?',np.nan)\n",
        "df['native-country']=df['native-country'].replace('?',np.nan)"
      ]
    },
    {
      "cell_type": "code",
      "execution_count": 214,
      "metadata": {
        "colab": {
          "base_uri": "https://localhost:8080/",
          "height": 227
        },
        "id": "2ypp9DlfpDdT",
        "outputId": "ea8fc976-9465-498f-832e-33b439d43730"
      },
      "outputs": [
        {
          "output_type": "execute_result",
          "data": {
            "text/plain": [
              "           age  workclass  fnlwgt  education  educational-num  marital-status  \\\n",
              "IsNull       0       2799       0          0                0               0   \n",
              "IsNa         0       2799       0          0                0               0   \n",
              "Duplicate   52         52      52         52               52              52   \n",
              "Unique      74          8   28523         16               16               7   \n",
              "\n",
              "           occupation  relationship  race  gender  capital-gain  capital-loss  \\\n",
              "IsNull           2809             0     0       0             0             0   \n",
              "IsNa             2809             0     0       0             0             0   \n",
              "Duplicate          52            52    52      52            52            52   \n",
              "Unique             14             6     5       2           123            99   \n",
              "\n",
              "           hours-per-week  native-country  income  \n",
              "IsNull                  0             857       0  \n",
              "IsNa                    0             857       0  \n",
              "Duplicate              52              52      52  \n",
              "Unique                 96              41       2  "
            ],
            "text/html": [
              "\n",
              "  <div id=\"df-bc95e2f3-7500-4f56-8a2e-98fda28cd8e8\" class=\"colab-df-container\">\n",
              "    <div>\n",
              "<style scoped>\n",
              "    .dataframe tbody tr th:only-of-type {\n",
              "        vertical-align: middle;\n",
              "    }\n",
              "\n",
              "    .dataframe tbody tr th {\n",
              "        vertical-align: top;\n",
              "    }\n",
              "\n",
              "    .dataframe thead th {\n",
              "        text-align: right;\n",
              "    }\n",
              "</style>\n",
              "<table border=\"1\" class=\"dataframe\">\n",
              "  <thead>\n",
              "    <tr style=\"text-align: right;\">\n",
              "      <th></th>\n",
              "      <th>age</th>\n",
              "      <th>workclass</th>\n",
              "      <th>fnlwgt</th>\n",
              "      <th>education</th>\n",
              "      <th>educational-num</th>\n",
              "      <th>marital-status</th>\n",
              "      <th>occupation</th>\n",
              "      <th>relationship</th>\n",
              "      <th>race</th>\n",
              "      <th>gender</th>\n",
              "      <th>capital-gain</th>\n",
              "      <th>capital-loss</th>\n",
              "      <th>hours-per-week</th>\n",
              "      <th>native-country</th>\n",
              "      <th>income</th>\n",
              "    </tr>\n",
              "  </thead>\n",
              "  <tbody>\n",
              "    <tr>\n",
              "      <th>IsNull</th>\n",
              "      <td>0</td>\n",
              "      <td>2799</td>\n",
              "      <td>0</td>\n",
              "      <td>0</td>\n",
              "      <td>0</td>\n",
              "      <td>0</td>\n",
              "      <td>2809</td>\n",
              "      <td>0</td>\n",
              "      <td>0</td>\n",
              "      <td>0</td>\n",
              "      <td>0</td>\n",
              "      <td>0</td>\n",
              "      <td>0</td>\n",
              "      <td>857</td>\n",
              "      <td>0</td>\n",
              "    </tr>\n",
              "    <tr>\n",
              "      <th>IsNa</th>\n",
              "      <td>0</td>\n",
              "      <td>2799</td>\n",
              "      <td>0</td>\n",
              "      <td>0</td>\n",
              "      <td>0</td>\n",
              "      <td>0</td>\n",
              "      <td>2809</td>\n",
              "      <td>0</td>\n",
              "      <td>0</td>\n",
              "      <td>0</td>\n",
              "      <td>0</td>\n",
              "      <td>0</td>\n",
              "      <td>0</td>\n",
              "      <td>857</td>\n",
              "      <td>0</td>\n",
              "    </tr>\n",
              "    <tr>\n",
              "      <th>Duplicate</th>\n",
              "      <td>52</td>\n",
              "      <td>52</td>\n",
              "      <td>52</td>\n",
              "      <td>52</td>\n",
              "      <td>52</td>\n",
              "      <td>52</td>\n",
              "      <td>52</td>\n",
              "      <td>52</td>\n",
              "      <td>52</td>\n",
              "      <td>52</td>\n",
              "      <td>52</td>\n",
              "      <td>52</td>\n",
              "      <td>52</td>\n",
              "      <td>52</td>\n",
              "      <td>52</td>\n",
              "    </tr>\n",
              "    <tr>\n",
              "      <th>Unique</th>\n",
              "      <td>74</td>\n",
              "      <td>8</td>\n",
              "      <td>28523</td>\n",
              "      <td>16</td>\n",
              "      <td>16</td>\n",
              "      <td>7</td>\n",
              "      <td>14</td>\n",
              "      <td>6</td>\n",
              "      <td>5</td>\n",
              "      <td>2</td>\n",
              "      <td>123</td>\n",
              "      <td>99</td>\n",
              "      <td>96</td>\n",
              "      <td>41</td>\n",
              "      <td>2</td>\n",
              "    </tr>\n",
              "  </tbody>\n",
              "</table>\n",
              "</div>\n",
              "    <div class=\"colab-df-buttons\">\n",
              "\n",
              "  <div class=\"colab-df-container\">\n",
              "    <button class=\"colab-df-convert\" onclick=\"convertToInteractive('df-bc95e2f3-7500-4f56-8a2e-98fda28cd8e8')\"\n",
              "            title=\"Convert this dataframe to an interactive table.\"\n",
              "            style=\"display:none;\">\n",
              "\n",
              "  <svg xmlns=\"http://www.w3.org/2000/svg\" height=\"24px\" viewBox=\"0 -960 960 960\">\n",
              "    <path d=\"M120-120v-720h720v720H120Zm60-500h600v-160H180v160Zm220 220h160v-160H400v160Zm0 220h160v-160H400v160ZM180-400h160v-160H180v160Zm440 0h160v-160H620v160ZM180-180h160v-160H180v160Zm440 0h160v-160H620v160Z\"/>\n",
              "  </svg>\n",
              "    </button>\n",
              "\n",
              "  <style>\n",
              "    .colab-df-container {\n",
              "      display:flex;\n",
              "      gap: 12px;\n",
              "    }\n",
              "\n",
              "    .colab-df-convert {\n",
              "      background-color: #E8F0FE;\n",
              "      border: none;\n",
              "      border-radius: 50%;\n",
              "      cursor: pointer;\n",
              "      display: none;\n",
              "      fill: #1967D2;\n",
              "      height: 32px;\n",
              "      padding: 0 0 0 0;\n",
              "      width: 32px;\n",
              "    }\n",
              "\n",
              "    .colab-df-convert:hover {\n",
              "      background-color: #E2EBFA;\n",
              "      box-shadow: 0px 1px 2px rgba(60, 64, 67, 0.3), 0px 1px 3px 1px rgba(60, 64, 67, 0.15);\n",
              "      fill: #174EA6;\n",
              "    }\n",
              "\n",
              "    .colab-df-buttons div {\n",
              "      margin-bottom: 4px;\n",
              "    }\n",
              "\n",
              "    [theme=dark] .colab-df-convert {\n",
              "      background-color: #3B4455;\n",
              "      fill: #D2E3FC;\n",
              "    }\n",
              "\n",
              "    [theme=dark] .colab-df-convert:hover {\n",
              "      background-color: #434B5C;\n",
              "      box-shadow: 0px 1px 3px 1px rgba(0, 0, 0, 0.15);\n",
              "      filter: drop-shadow(0px 1px 2px rgba(0, 0, 0, 0.3));\n",
              "      fill: #FFFFFF;\n",
              "    }\n",
              "  </style>\n",
              "\n",
              "    <script>\n",
              "      const buttonEl =\n",
              "        document.querySelector('#df-bc95e2f3-7500-4f56-8a2e-98fda28cd8e8 button.colab-df-convert');\n",
              "      buttonEl.style.display =\n",
              "        google.colab.kernel.accessAllowed ? 'block' : 'none';\n",
              "\n",
              "      async function convertToInteractive(key) {\n",
              "        const element = document.querySelector('#df-bc95e2f3-7500-4f56-8a2e-98fda28cd8e8');\n",
              "        const dataTable =\n",
              "          await google.colab.kernel.invokeFunction('convertToInteractive',\n",
              "                                                    [key], {});\n",
              "        if (!dataTable) return;\n",
              "\n",
              "        const docLinkHtml = 'Like what you see? Visit the ' +\n",
              "          '<a target=\"_blank\" href=https://colab.research.google.com/notebooks/data_table.ipynb>data table notebook</a>'\n",
              "          + ' to learn more about interactive tables.';\n",
              "        element.innerHTML = '';\n",
              "        dataTable['output_type'] = 'display_data';\n",
              "        await google.colab.output.renderOutput(dataTable, element);\n",
              "        const docLink = document.createElement('div');\n",
              "        docLink.innerHTML = docLinkHtml;\n",
              "        element.appendChild(docLink);\n",
              "      }\n",
              "    </script>\n",
              "  </div>\n",
              "\n",
              "\n",
              "<div id=\"df-b874fdd9-0cae-46c1-80b1-47f5cc8e43c4\">\n",
              "  <button class=\"colab-df-quickchart\" onclick=\"quickchart('df-b874fdd9-0cae-46c1-80b1-47f5cc8e43c4')\"\n",
              "            title=\"Suggest charts\"\n",
              "            style=\"display:none;\">\n",
              "\n",
              "<svg xmlns=\"http://www.w3.org/2000/svg\" height=\"24px\"viewBox=\"0 0 24 24\"\n",
              "     width=\"24px\">\n",
              "    <g>\n",
              "        <path d=\"M19 3H5c-1.1 0-2 .9-2 2v14c0 1.1.9 2 2 2h14c1.1 0 2-.9 2-2V5c0-1.1-.9-2-2-2zM9 17H7v-7h2v7zm4 0h-2V7h2v10zm4 0h-2v-4h2v4z\"/>\n",
              "    </g>\n",
              "</svg>\n",
              "  </button>\n",
              "\n",
              "<style>\n",
              "  .colab-df-quickchart {\n",
              "      --bg-color: #E8F0FE;\n",
              "      --fill-color: #1967D2;\n",
              "      --hover-bg-color: #E2EBFA;\n",
              "      --hover-fill-color: #174EA6;\n",
              "      --disabled-fill-color: #AAA;\n",
              "      --disabled-bg-color: #DDD;\n",
              "  }\n",
              "\n",
              "  [theme=dark] .colab-df-quickchart {\n",
              "      --bg-color: #3B4455;\n",
              "      --fill-color: #D2E3FC;\n",
              "      --hover-bg-color: #434B5C;\n",
              "      --hover-fill-color: #FFFFFF;\n",
              "      --disabled-bg-color: #3B4455;\n",
              "      --disabled-fill-color: #666;\n",
              "  }\n",
              "\n",
              "  .colab-df-quickchart {\n",
              "    background-color: var(--bg-color);\n",
              "    border: none;\n",
              "    border-radius: 50%;\n",
              "    cursor: pointer;\n",
              "    display: none;\n",
              "    fill: var(--fill-color);\n",
              "    height: 32px;\n",
              "    padding: 0;\n",
              "    width: 32px;\n",
              "  }\n",
              "\n",
              "  .colab-df-quickchart:hover {\n",
              "    background-color: var(--hover-bg-color);\n",
              "    box-shadow: 0 1px 2px rgba(60, 64, 67, 0.3), 0 1px 3px 1px rgba(60, 64, 67, 0.15);\n",
              "    fill: var(--button-hover-fill-color);\n",
              "  }\n",
              "\n",
              "  .colab-df-quickchart-complete:disabled,\n",
              "  .colab-df-quickchart-complete:disabled:hover {\n",
              "    background-color: var(--disabled-bg-color);\n",
              "    fill: var(--disabled-fill-color);\n",
              "    box-shadow: none;\n",
              "  }\n",
              "\n",
              "  .colab-df-spinner {\n",
              "    border: 2px solid var(--fill-color);\n",
              "    border-color: transparent;\n",
              "    border-bottom-color: var(--fill-color);\n",
              "    animation:\n",
              "      spin 1s steps(1) infinite;\n",
              "  }\n",
              "\n",
              "  @keyframes spin {\n",
              "    0% {\n",
              "      border-color: transparent;\n",
              "      border-bottom-color: var(--fill-color);\n",
              "      border-left-color: var(--fill-color);\n",
              "    }\n",
              "    20% {\n",
              "      border-color: transparent;\n",
              "      border-left-color: var(--fill-color);\n",
              "      border-top-color: var(--fill-color);\n",
              "    }\n",
              "    30% {\n",
              "      border-color: transparent;\n",
              "      border-left-color: var(--fill-color);\n",
              "      border-top-color: var(--fill-color);\n",
              "      border-right-color: var(--fill-color);\n",
              "    }\n",
              "    40% {\n",
              "      border-color: transparent;\n",
              "      border-right-color: var(--fill-color);\n",
              "      border-top-color: var(--fill-color);\n",
              "    }\n",
              "    60% {\n",
              "      border-color: transparent;\n",
              "      border-right-color: var(--fill-color);\n",
              "    }\n",
              "    80% {\n",
              "      border-color: transparent;\n",
              "      border-right-color: var(--fill-color);\n",
              "      border-bottom-color: var(--fill-color);\n",
              "    }\n",
              "    90% {\n",
              "      border-color: transparent;\n",
              "      border-bottom-color: var(--fill-color);\n",
              "    }\n",
              "  }\n",
              "</style>\n",
              "\n",
              "  <script>\n",
              "    async function quickchart(key) {\n",
              "      const quickchartButtonEl =\n",
              "        document.querySelector('#' + key + ' button');\n",
              "      quickchartButtonEl.disabled = true;  // To prevent multiple clicks.\n",
              "      quickchartButtonEl.classList.add('colab-df-spinner');\n",
              "      try {\n",
              "        const charts = await google.colab.kernel.invokeFunction(\n",
              "            'suggestCharts', [key], {});\n",
              "      } catch (error) {\n",
              "        console.error('Error during call to suggestCharts:', error);\n",
              "      }\n",
              "      quickchartButtonEl.classList.remove('colab-df-spinner');\n",
              "      quickchartButtonEl.classList.add('colab-df-quickchart-complete');\n",
              "    }\n",
              "    (() => {\n",
              "      let quickchartButtonEl =\n",
              "        document.querySelector('#df-b874fdd9-0cae-46c1-80b1-47f5cc8e43c4 button');\n",
              "      quickchartButtonEl.style.display =\n",
              "        google.colab.kernel.accessAllowed ? 'block' : 'none';\n",
              "    })();\n",
              "  </script>\n",
              "</div>\n",
              "    </div>\n",
              "  </div>\n"
            ],
            "application/vnd.google.colaboratory.intrinsic+json": {
              "type": "dataframe",
              "summary": "{\n  \"name\": \"info\",\n  \"rows\": 4,\n  \"fields\": [\n    {\n      \"column\": \"age\",\n      \"properties\": {\n        \"dtype\": \"number\",\n        \"std\": 37,\n        \"min\": 0,\n        \"max\": 74,\n        \"num_unique_values\": 3,\n        \"samples\": [\n          0,\n          52,\n          74\n        ],\n        \"semantic_type\": \"\",\n        \"description\": \"\"\n      }\n    },\n    {\n      \"column\": \"workclass\",\n      \"properties\": {\n        \"dtype\": \"number\",\n        \"std\": 1598,\n        \"min\": 8,\n        \"max\": 2799,\n        \"num_unique_values\": 3,\n        \"samples\": [\n          2799,\n          52,\n          8\n        ],\n        \"semantic_type\": \"\",\n        \"description\": \"\"\n      }\n    },\n    {\n      \"column\": \"fnlwgt\",\n      \"properties\": {\n        \"dtype\": \"number\",\n        \"std\": 14252,\n        \"min\": 0,\n        \"max\": 28523,\n        \"num_unique_values\": 3,\n        \"samples\": [\n          0,\n          52,\n          28523\n        ],\n        \"semantic_type\": \"\",\n        \"description\": \"\"\n      }\n    },\n    {\n      \"column\": \"education\",\n      \"properties\": {\n        \"dtype\": \"number\",\n        \"std\": 24,\n        \"min\": 0,\n        \"max\": 52,\n        \"num_unique_values\": 3,\n        \"samples\": [\n          0,\n          52,\n          16\n        ],\n        \"semantic_type\": \"\",\n        \"description\": \"\"\n      }\n    },\n    {\n      \"column\": \"educational-num\",\n      \"properties\": {\n        \"dtype\": \"number\",\n        \"std\": 24,\n        \"min\": 0,\n        \"max\": 52,\n        \"num_unique_values\": 3,\n        \"samples\": [\n          0,\n          52,\n          16\n        ],\n        \"semantic_type\": \"\",\n        \"description\": \"\"\n      }\n    },\n    {\n      \"column\": \"marital-status\",\n      \"properties\": {\n        \"dtype\": \"number\",\n        \"std\": 25,\n        \"min\": 0,\n        \"max\": 52,\n        \"num_unique_values\": 3,\n        \"samples\": [\n          0,\n          52,\n          7\n        ],\n        \"semantic_type\": \"\",\n        \"description\": \"\"\n      }\n    },\n    {\n      \"column\": \"occupation\",\n      \"properties\": {\n        \"dtype\": \"number\",\n        \"std\": 1602,\n        \"min\": 14,\n        \"max\": 2809,\n        \"num_unique_values\": 3,\n        \"samples\": [\n          2809,\n          52,\n          14\n        ],\n        \"semantic_type\": \"\",\n        \"description\": \"\"\n      }\n    },\n    {\n      \"column\": \"relationship\",\n      \"properties\": {\n        \"dtype\": \"number\",\n        \"std\": 25,\n        \"min\": 0,\n        \"max\": 52,\n        \"num_unique_values\": 3,\n        \"samples\": [\n          0,\n          52,\n          6\n        ],\n        \"semantic_type\": \"\",\n        \"description\": \"\"\n      }\n    },\n    {\n      \"column\": \"race\",\n      \"properties\": {\n        \"dtype\": \"number\",\n        \"std\": 25,\n        \"min\": 0,\n        \"max\": 52,\n        \"num_unique_values\": 3,\n        \"samples\": [\n          0,\n          52,\n          5\n        ],\n        \"semantic_type\": \"\",\n        \"description\": \"\"\n      }\n    },\n    {\n      \"column\": \"gender\",\n      \"properties\": {\n        \"dtype\": \"number\",\n        \"std\": 25,\n        \"min\": 0,\n        \"max\": 52,\n        \"num_unique_values\": 3,\n        \"samples\": [\n          0,\n          52,\n          2\n        ],\n        \"semantic_type\": \"\",\n        \"description\": \"\"\n      }\n    },\n    {\n      \"column\": \"capital-gain\",\n      \"properties\": {\n        \"dtype\": \"number\",\n        \"std\": 58,\n        \"min\": 0,\n        \"max\": 123,\n        \"num_unique_values\": 3,\n        \"samples\": [\n          0,\n          52,\n          123\n        ],\n        \"semantic_type\": \"\",\n        \"description\": \"\"\n      }\n    },\n    {\n      \"column\": \"capital-loss\",\n      \"properties\": {\n        \"dtype\": \"number\",\n        \"std\": 47,\n        \"min\": 0,\n        \"max\": 99,\n        \"num_unique_values\": 3,\n        \"samples\": [\n          0,\n          52,\n          99\n        ],\n        \"semantic_type\": \"\",\n        \"description\": \"\"\n      }\n    },\n    {\n      \"column\": \"hours-per-week\",\n      \"properties\": {\n        \"dtype\": \"number\",\n        \"std\": 46,\n        \"min\": 0,\n        \"max\": 96,\n        \"num_unique_values\": 3,\n        \"samples\": [\n          0,\n          52,\n          96\n        ],\n        \"semantic_type\": \"\",\n        \"description\": \"\"\n      }\n    },\n    {\n      \"column\": \"native-country\",\n      \"properties\": {\n        \"dtype\": \"number\",\n        \"std\": 467,\n        \"min\": 41,\n        \"max\": 857,\n        \"num_unique_values\": 3,\n        \"samples\": [\n          857,\n          52,\n          41\n        ],\n        \"semantic_type\": \"\",\n        \"description\": \"\"\n      }\n    },\n    {\n      \"column\": \"income\",\n      \"properties\": {\n        \"dtype\": \"number\",\n        \"std\": 25,\n        \"min\": 0,\n        \"max\": 52,\n        \"num_unique_values\": 3,\n        \"samples\": [\n          0,\n          52,\n          2\n        ],\n        \"semantic_type\": \"\",\n        \"description\": \"\"\n      }\n    }\n  ]\n}"
            }
          },
          "metadata": {},
          "execution_count": 214
        }
      ],
      "source": [
        "# Check For Missing Values\n",
        "info = pd.DataFrame(df.isnull().sum(),columns=[\"IsNull\"])\n",
        "info.insert(1,\"IsNa\",df.isna().sum(),True)\n",
        "info.insert(2,\"Duplicate\",df.duplicated().sum(),True)\n",
        "info.insert(3,\"Unique\",df.nunique(),True)\n",
        "info.T"
      ]
    },
    {
      "cell_type": "markdown",
      "metadata": {
        "id": "JpEcBdTUAYVN"
      },
      "source": [
        "**Question:** In many widely used datasets there are a lot of null entries. Propose 5 methods by which, one could deal with this problem. Briefly explain how do you decide which one to use in this problem."
      ]
    },
    {
      "cell_type": "markdown",
      "metadata": {
        "id": "l1u1pBHuAsSg"
      },
      "source": [
        "**Your answer:**\n",
        "Proposing Methods to Handle Null Entries\n",
        "\n",
        "Assuming we have found null entries, here are five methods to handle them:\n",
        "\n",
        "  - Remove Rows with Null Values: If the dataset is large and nulls are few, directly removing rows with nulls might be acceptable.\n",
        "  - Imputation with Mean/Median/Mode: Replace nulls with the mean, median, or mode of the column. Suitable for numerical columns.\n",
        "  - Predictive Imputation: Use a machine learning model to predict and fill in missing values based on other features.\n",
        "  -  Assign a Unique Category: For categorical data, treat nulls as another category.\n",
        "  -  Using Algorithms that Support Missing Values: Some models can handle missing data directly."
      ]
    },
    {
      "cell_type": "markdown",
      "metadata": {
        "id": "eHhH-hkpAxFf"
      },
      "source": [
        "**Task:** Handle null entries using your best method."
      ]
    },
    {
      "cell_type": "code",
      "execution_count": 215,
      "metadata": {
        "id": "5fVwWcjK29fk"
      },
      "outputs": [],
      "source": [
        "# Numeric imputation\n",
        "numeric_features = df.select_dtypes(include=['int', 'float']).columns\n",
        "imputer = SimpleImputer(strategy='mean')\n",
        "df[numeric_features] = imputer.fit_transform(df[numeric_features])\n",
        "\n",
        "# Categorical imputation\n",
        "categorical_features = df.select_dtypes(include=['object']).columns\n",
        "imputer = SimpleImputer(strategy='most_frequent')\n",
        "df[categorical_features] = imputer.fit_transform(df[categorical_features])\n"
      ]
    },
    {
      "cell_type": "code",
      "execution_count": 216,
      "metadata": {
        "colab": {
          "base_uri": "https://localhost:8080/"
        },
        "id": "qHf6uTp_rog7",
        "outputId": "5a7a66d7-10e3-42b7-9086-9c0e7d6f3367"
      },
      "outputs": [
        {
          "output_type": "stream",
          "name": "stdout",
          "text": [
            "    age  workclass    fnlwgt     education  educational-num  \\\n",
            "0  25.0    Private  226802.0          11th              7.0   \n",
            "1  38.0    Private   89814.0       HS-grad              9.0   \n",
            "2  28.0  Local-gov  336951.0    Assoc-acdm             12.0   \n",
            "3  44.0    Private  160323.0  Some-college             10.0   \n",
            "4  18.0    Private  103497.0  Some-college             10.0   \n",
            "\n",
            "       marital-status         occupation relationship   race  gender  \\\n",
            "0       Never-married  Machine-op-inspct    Own-child  Black    Male   \n",
            "1  Married-civ-spouse    Farming-fishing      Husband  White    Male   \n",
            "2  Married-civ-spouse    Protective-serv      Husband  White    Male   \n",
            "3  Married-civ-spouse  Machine-op-inspct      Husband  Black    Male   \n",
            "4       Never-married     Prof-specialty    Own-child  White  Female   \n",
            "\n",
            "   capital-gain  capital-loss  hours-per-week native-country income  \n",
            "0           0.0           0.0            40.0  United-States  <=50K  \n",
            "1           0.0           0.0            50.0  United-States  <=50K  \n",
            "2           0.0           0.0            40.0  United-States   >50K  \n",
            "3        7688.0           0.0            40.0  United-States   >50K  \n",
            "4           0.0           0.0            30.0  United-States  <=50K  \n"
          ]
        }
      ],
      "source": [
        "print(df.head(5))"
      ]
    },
    {
      "cell_type": "code",
      "execution_count": 217,
      "metadata": {
        "colab": {
          "base_uri": "https://localhost:8080/",
          "height": 227
        },
        "id": "kRtQIfVarx7g",
        "outputId": "4d8f47ea-08fe-4c74-c284-54392422f179"
      },
      "outputs": [
        {
          "output_type": "execute_result",
          "data": {
            "text/plain": [
              "           age  workclass  fnlwgt  education  educational-num  marital-status  \\\n",
              "IsNull       0          0       0          0                0               0   \n",
              "IsNa         0          0       0          0                0               0   \n",
              "Duplicate   53         53      53         53               53              53   \n",
              "Unique      74          8   28523         16               16               7   \n",
              "\n",
              "           occupation  relationship  race  gender  capital-gain  capital-loss  \\\n",
              "IsNull              0             0     0       0             0             0   \n",
              "IsNa                0             0     0       0             0             0   \n",
              "Duplicate          53            53    53      53            53            53   \n",
              "Unique             14             6     5       2           123            99   \n",
              "\n",
              "           hours-per-week  native-country  income  \n",
              "IsNull                  0               0       0  \n",
              "IsNa                    0               0       0  \n",
              "Duplicate              53              53      53  \n",
              "Unique                 96              41       2  "
            ],
            "text/html": [
              "\n",
              "  <div id=\"df-c71a3f84-5698-4f18-92d7-f2ec9452eff0\" class=\"colab-df-container\">\n",
              "    <div>\n",
              "<style scoped>\n",
              "    .dataframe tbody tr th:only-of-type {\n",
              "        vertical-align: middle;\n",
              "    }\n",
              "\n",
              "    .dataframe tbody tr th {\n",
              "        vertical-align: top;\n",
              "    }\n",
              "\n",
              "    .dataframe thead th {\n",
              "        text-align: right;\n",
              "    }\n",
              "</style>\n",
              "<table border=\"1\" class=\"dataframe\">\n",
              "  <thead>\n",
              "    <tr style=\"text-align: right;\">\n",
              "      <th></th>\n",
              "      <th>age</th>\n",
              "      <th>workclass</th>\n",
              "      <th>fnlwgt</th>\n",
              "      <th>education</th>\n",
              "      <th>educational-num</th>\n",
              "      <th>marital-status</th>\n",
              "      <th>occupation</th>\n",
              "      <th>relationship</th>\n",
              "      <th>race</th>\n",
              "      <th>gender</th>\n",
              "      <th>capital-gain</th>\n",
              "      <th>capital-loss</th>\n",
              "      <th>hours-per-week</th>\n",
              "      <th>native-country</th>\n",
              "      <th>income</th>\n",
              "    </tr>\n",
              "  </thead>\n",
              "  <tbody>\n",
              "    <tr>\n",
              "      <th>IsNull</th>\n",
              "      <td>0</td>\n",
              "      <td>0</td>\n",
              "      <td>0</td>\n",
              "      <td>0</td>\n",
              "      <td>0</td>\n",
              "      <td>0</td>\n",
              "      <td>0</td>\n",
              "      <td>0</td>\n",
              "      <td>0</td>\n",
              "      <td>0</td>\n",
              "      <td>0</td>\n",
              "      <td>0</td>\n",
              "      <td>0</td>\n",
              "      <td>0</td>\n",
              "      <td>0</td>\n",
              "    </tr>\n",
              "    <tr>\n",
              "      <th>IsNa</th>\n",
              "      <td>0</td>\n",
              "      <td>0</td>\n",
              "      <td>0</td>\n",
              "      <td>0</td>\n",
              "      <td>0</td>\n",
              "      <td>0</td>\n",
              "      <td>0</td>\n",
              "      <td>0</td>\n",
              "      <td>0</td>\n",
              "      <td>0</td>\n",
              "      <td>0</td>\n",
              "      <td>0</td>\n",
              "      <td>0</td>\n",
              "      <td>0</td>\n",
              "      <td>0</td>\n",
              "    </tr>\n",
              "    <tr>\n",
              "      <th>Duplicate</th>\n",
              "      <td>53</td>\n",
              "      <td>53</td>\n",
              "      <td>53</td>\n",
              "      <td>53</td>\n",
              "      <td>53</td>\n",
              "      <td>53</td>\n",
              "      <td>53</td>\n",
              "      <td>53</td>\n",
              "      <td>53</td>\n",
              "      <td>53</td>\n",
              "      <td>53</td>\n",
              "      <td>53</td>\n",
              "      <td>53</td>\n",
              "      <td>53</td>\n",
              "      <td>53</td>\n",
              "    </tr>\n",
              "    <tr>\n",
              "      <th>Unique</th>\n",
              "      <td>74</td>\n",
              "      <td>8</td>\n",
              "      <td>28523</td>\n",
              "      <td>16</td>\n",
              "      <td>16</td>\n",
              "      <td>7</td>\n",
              "      <td>14</td>\n",
              "      <td>6</td>\n",
              "      <td>5</td>\n",
              "      <td>2</td>\n",
              "      <td>123</td>\n",
              "      <td>99</td>\n",
              "      <td>96</td>\n",
              "      <td>41</td>\n",
              "      <td>2</td>\n",
              "    </tr>\n",
              "  </tbody>\n",
              "</table>\n",
              "</div>\n",
              "    <div class=\"colab-df-buttons\">\n",
              "\n",
              "  <div class=\"colab-df-container\">\n",
              "    <button class=\"colab-df-convert\" onclick=\"convertToInteractive('df-c71a3f84-5698-4f18-92d7-f2ec9452eff0')\"\n",
              "            title=\"Convert this dataframe to an interactive table.\"\n",
              "            style=\"display:none;\">\n",
              "\n",
              "  <svg xmlns=\"http://www.w3.org/2000/svg\" height=\"24px\" viewBox=\"0 -960 960 960\">\n",
              "    <path d=\"M120-120v-720h720v720H120Zm60-500h600v-160H180v160Zm220 220h160v-160H400v160Zm0 220h160v-160H400v160ZM180-400h160v-160H180v160Zm440 0h160v-160H620v160ZM180-180h160v-160H180v160Zm440 0h160v-160H620v160Z\"/>\n",
              "  </svg>\n",
              "    </button>\n",
              "\n",
              "  <style>\n",
              "    .colab-df-container {\n",
              "      display:flex;\n",
              "      gap: 12px;\n",
              "    }\n",
              "\n",
              "    .colab-df-convert {\n",
              "      background-color: #E8F0FE;\n",
              "      border: none;\n",
              "      border-radius: 50%;\n",
              "      cursor: pointer;\n",
              "      display: none;\n",
              "      fill: #1967D2;\n",
              "      height: 32px;\n",
              "      padding: 0 0 0 0;\n",
              "      width: 32px;\n",
              "    }\n",
              "\n",
              "    .colab-df-convert:hover {\n",
              "      background-color: #E2EBFA;\n",
              "      box-shadow: 0px 1px 2px rgba(60, 64, 67, 0.3), 0px 1px 3px 1px rgba(60, 64, 67, 0.15);\n",
              "      fill: #174EA6;\n",
              "    }\n",
              "\n",
              "    .colab-df-buttons div {\n",
              "      margin-bottom: 4px;\n",
              "    }\n",
              "\n",
              "    [theme=dark] .colab-df-convert {\n",
              "      background-color: #3B4455;\n",
              "      fill: #D2E3FC;\n",
              "    }\n",
              "\n",
              "    [theme=dark] .colab-df-convert:hover {\n",
              "      background-color: #434B5C;\n",
              "      box-shadow: 0px 1px 3px 1px rgba(0, 0, 0, 0.15);\n",
              "      filter: drop-shadow(0px 1px 2px rgba(0, 0, 0, 0.3));\n",
              "      fill: #FFFFFF;\n",
              "    }\n",
              "  </style>\n",
              "\n",
              "    <script>\n",
              "      const buttonEl =\n",
              "        document.querySelector('#df-c71a3f84-5698-4f18-92d7-f2ec9452eff0 button.colab-df-convert');\n",
              "      buttonEl.style.display =\n",
              "        google.colab.kernel.accessAllowed ? 'block' : 'none';\n",
              "\n",
              "      async function convertToInteractive(key) {\n",
              "        const element = document.querySelector('#df-c71a3f84-5698-4f18-92d7-f2ec9452eff0');\n",
              "        const dataTable =\n",
              "          await google.colab.kernel.invokeFunction('convertToInteractive',\n",
              "                                                    [key], {});\n",
              "        if (!dataTable) return;\n",
              "\n",
              "        const docLinkHtml = 'Like what you see? Visit the ' +\n",
              "          '<a target=\"_blank\" href=https://colab.research.google.com/notebooks/data_table.ipynb>data table notebook</a>'\n",
              "          + ' to learn more about interactive tables.';\n",
              "        element.innerHTML = '';\n",
              "        dataTable['output_type'] = 'display_data';\n",
              "        await google.colab.output.renderOutput(dataTable, element);\n",
              "        const docLink = document.createElement('div');\n",
              "        docLink.innerHTML = docLinkHtml;\n",
              "        element.appendChild(docLink);\n",
              "      }\n",
              "    </script>\n",
              "  </div>\n",
              "\n",
              "\n",
              "<div id=\"df-d5a1de7d-cc2b-49f0-83ec-3b7f08c715d9\">\n",
              "  <button class=\"colab-df-quickchart\" onclick=\"quickchart('df-d5a1de7d-cc2b-49f0-83ec-3b7f08c715d9')\"\n",
              "            title=\"Suggest charts\"\n",
              "            style=\"display:none;\">\n",
              "\n",
              "<svg xmlns=\"http://www.w3.org/2000/svg\" height=\"24px\"viewBox=\"0 0 24 24\"\n",
              "     width=\"24px\">\n",
              "    <g>\n",
              "        <path d=\"M19 3H5c-1.1 0-2 .9-2 2v14c0 1.1.9 2 2 2h14c1.1 0 2-.9 2-2V5c0-1.1-.9-2-2-2zM9 17H7v-7h2v7zm4 0h-2V7h2v10zm4 0h-2v-4h2v4z\"/>\n",
              "    </g>\n",
              "</svg>\n",
              "  </button>\n",
              "\n",
              "<style>\n",
              "  .colab-df-quickchart {\n",
              "      --bg-color: #E8F0FE;\n",
              "      --fill-color: #1967D2;\n",
              "      --hover-bg-color: #E2EBFA;\n",
              "      --hover-fill-color: #174EA6;\n",
              "      --disabled-fill-color: #AAA;\n",
              "      --disabled-bg-color: #DDD;\n",
              "  }\n",
              "\n",
              "  [theme=dark] .colab-df-quickchart {\n",
              "      --bg-color: #3B4455;\n",
              "      --fill-color: #D2E3FC;\n",
              "      --hover-bg-color: #434B5C;\n",
              "      --hover-fill-color: #FFFFFF;\n",
              "      --disabled-bg-color: #3B4455;\n",
              "      --disabled-fill-color: #666;\n",
              "  }\n",
              "\n",
              "  .colab-df-quickchart {\n",
              "    background-color: var(--bg-color);\n",
              "    border: none;\n",
              "    border-radius: 50%;\n",
              "    cursor: pointer;\n",
              "    display: none;\n",
              "    fill: var(--fill-color);\n",
              "    height: 32px;\n",
              "    padding: 0;\n",
              "    width: 32px;\n",
              "  }\n",
              "\n",
              "  .colab-df-quickchart:hover {\n",
              "    background-color: var(--hover-bg-color);\n",
              "    box-shadow: 0 1px 2px rgba(60, 64, 67, 0.3), 0 1px 3px 1px rgba(60, 64, 67, 0.15);\n",
              "    fill: var(--button-hover-fill-color);\n",
              "  }\n",
              "\n",
              "  .colab-df-quickchart-complete:disabled,\n",
              "  .colab-df-quickchart-complete:disabled:hover {\n",
              "    background-color: var(--disabled-bg-color);\n",
              "    fill: var(--disabled-fill-color);\n",
              "    box-shadow: none;\n",
              "  }\n",
              "\n",
              "  .colab-df-spinner {\n",
              "    border: 2px solid var(--fill-color);\n",
              "    border-color: transparent;\n",
              "    border-bottom-color: var(--fill-color);\n",
              "    animation:\n",
              "      spin 1s steps(1) infinite;\n",
              "  }\n",
              "\n",
              "  @keyframes spin {\n",
              "    0% {\n",
              "      border-color: transparent;\n",
              "      border-bottom-color: var(--fill-color);\n",
              "      border-left-color: var(--fill-color);\n",
              "    }\n",
              "    20% {\n",
              "      border-color: transparent;\n",
              "      border-left-color: var(--fill-color);\n",
              "      border-top-color: var(--fill-color);\n",
              "    }\n",
              "    30% {\n",
              "      border-color: transparent;\n",
              "      border-left-color: var(--fill-color);\n",
              "      border-top-color: var(--fill-color);\n",
              "      border-right-color: var(--fill-color);\n",
              "    }\n",
              "    40% {\n",
              "      border-color: transparent;\n",
              "      border-right-color: var(--fill-color);\n",
              "      border-top-color: var(--fill-color);\n",
              "    }\n",
              "    60% {\n",
              "      border-color: transparent;\n",
              "      border-right-color: var(--fill-color);\n",
              "    }\n",
              "    80% {\n",
              "      border-color: transparent;\n",
              "      border-right-color: var(--fill-color);\n",
              "      border-bottom-color: var(--fill-color);\n",
              "    }\n",
              "    90% {\n",
              "      border-color: transparent;\n",
              "      border-bottom-color: var(--fill-color);\n",
              "    }\n",
              "  }\n",
              "</style>\n",
              "\n",
              "  <script>\n",
              "    async function quickchart(key) {\n",
              "      const quickchartButtonEl =\n",
              "        document.querySelector('#' + key + ' button');\n",
              "      quickchartButtonEl.disabled = true;  // To prevent multiple clicks.\n",
              "      quickchartButtonEl.classList.add('colab-df-spinner');\n",
              "      try {\n",
              "        const charts = await google.colab.kernel.invokeFunction(\n",
              "            'suggestCharts', [key], {});\n",
              "      } catch (error) {\n",
              "        console.error('Error during call to suggestCharts:', error);\n",
              "      }\n",
              "      quickchartButtonEl.classList.remove('colab-df-spinner');\n",
              "      quickchartButtonEl.classList.add('colab-df-quickchart-complete');\n",
              "    }\n",
              "    (() => {\n",
              "      let quickchartButtonEl =\n",
              "        document.querySelector('#df-d5a1de7d-cc2b-49f0-83ec-3b7f08c715d9 button');\n",
              "      quickchartButtonEl.style.display =\n",
              "        google.colab.kernel.accessAllowed ? 'block' : 'none';\n",
              "    })();\n",
              "  </script>\n",
              "</div>\n",
              "    </div>\n",
              "  </div>\n"
            ],
            "application/vnd.google.colaboratory.intrinsic+json": {
              "type": "dataframe",
              "summary": "{\n  \"name\": \"info\",\n  \"rows\": 4,\n  \"fields\": [\n    {\n      \"column\": \"age\",\n      \"properties\": {\n        \"dtype\": \"number\",\n        \"std\": 37,\n        \"min\": 0,\n        \"max\": 74,\n        \"num_unique_values\": 3,\n        \"samples\": [\n          0,\n          53,\n          74\n        ],\n        \"semantic_type\": \"\",\n        \"description\": \"\"\n      }\n    },\n    {\n      \"column\": \"workclass\",\n      \"properties\": {\n        \"dtype\": \"number\",\n        \"std\": 25,\n        \"min\": 0,\n        \"max\": 53,\n        \"num_unique_values\": 3,\n        \"samples\": [\n          0,\n          53,\n          8\n        ],\n        \"semantic_type\": \"\",\n        \"description\": \"\"\n      }\n    },\n    {\n      \"column\": \"fnlwgt\",\n      \"properties\": {\n        \"dtype\": \"number\",\n        \"std\": 14252,\n        \"min\": 0,\n        \"max\": 28523,\n        \"num_unique_values\": 3,\n        \"samples\": [\n          0,\n          53,\n          28523\n        ],\n        \"semantic_type\": \"\",\n        \"description\": \"\"\n      }\n    },\n    {\n      \"column\": \"education\",\n      \"properties\": {\n        \"dtype\": \"number\",\n        \"std\": 24,\n        \"min\": 0,\n        \"max\": 53,\n        \"num_unique_values\": 3,\n        \"samples\": [\n          0,\n          53,\n          16\n        ],\n        \"semantic_type\": \"\",\n        \"description\": \"\"\n      }\n    },\n    {\n      \"column\": \"educational-num\",\n      \"properties\": {\n        \"dtype\": \"number\",\n        \"std\": 24,\n        \"min\": 0,\n        \"max\": 53,\n        \"num_unique_values\": 3,\n        \"samples\": [\n          0,\n          53,\n          16\n        ],\n        \"semantic_type\": \"\",\n        \"description\": \"\"\n      }\n    },\n    {\n      \"column\": \"marital-status\",\n      \"properties\": {\n        \"dtype\": \"number\",\n        \"std\": 25,\n        \"min\": 0,\n        \"max\": 53,\n        \"num_unique_values\": 3,\n        \"samples\": [\n          0,\n          53,\n          7\n        ],\n        \"semantic_type\": \"\",\n        \"description\": \"\"\n      }\n    },\n    {\n      \"column\": \"occupation\",\n      \"properties\": {\n        \"dtype\": \"number\",\n        \"std\": 25,\n        \"min\": 0,\n        \"max\": 53,\n        \"num_unique_values\": 3,\n        \"samples\": [\n          0,\n          53,\n          14\n        ],\n        \"semantic_type\": \"\",\n        \"description\": \"\"\n      }\n    },\n    {\n      \"column\": \"relationship\",\n      \"properties\": {\n        \"dtype\": \"number\",\n        \"std\": 25,\n        \"min\": 0,\n        \"max\": 53,\n        \"num_unique_values\": 3,\n        \"samples\": [\n          0,\n          53,\n          6\n        ],\n        \"semantic_type\": \"\",\n        \"description\": \"\"\n      }\n    },\n    {\n      \"column\": \"race\",\n      \"properties\": {\n        \"dtype\": \"number\",\n        \"std\": 25,\n        \"min\": 0,\n        \"max\": 53,\n        \"num_unique_values\": 3,\n        \"samples\": [\n          0,\n          53,\n          5\n        ],\n        \"semantic_type\": \"\",\n        \"description\": \"\"\n      }\n    },\n    {\n      \"column\": \"gender\",\n      \"properties\": {\n        \"dtype\": \"number\",\n        \"std\": 26,\n        \"min\": 0,\n        \"max\": 53,\n        \"num_unique_values\": 3,\n        \"samples\": [\n          0,\n          53,\n          2\n        ],\n        \"semantic_type\": \"\",\n        \"description\": \"\"\n      }\n    },\n    {\n      \"column\": \"capital-gain\",\n      \"properties\": {\n        \"dtype\": \"number\",\n        \"std\": 58,\n        \"min\": 0,\n        \"max\": 123,\n        \"num_unique_values\": 3,\n        \"samples\": [\n          0,\n          53,\n          123\n        ],\n        \"semantic_type\": \"\",\n        \"description\": \"\"\n      }\n    },\n    {\n      \"column\": \"capital-loss\",\n      \"properties\": {\n        \"dtype\": \"number\",\n        \"std\": 47,\n        \"min\": 0,\n        \"max\": 99,\n        \"num_unique_values\": 3,\n        \"samples\": [\n          0,\n          53,\n          99\n        ],\n        \"semantic_type\": \"\",\n        \"description\": \"\"\n      }\n    },\n    {\n      \"column\": \"hours-per-week\",\n      \"properties\": {\n        \"dtype\": \"number\",\n        \"std\": 46,\n        \"min\": 0,\n        \"max\": 96,\n        \"num_unique_values\": 3,\n        \"samples\": [\n          0,\n          53,\n          96\n        ],\n        \"semantic_type\": \"\",\n        \"description\": \"\"\n      }\n    },\n    {\n      \"column\": \"native-country\",\n      \"properties\": {\n        \"dtype\": \"number\",\n        \"std\": 27,\n        \"min\": 0,\n        \"max\": 53,\n        \"num_unique_values\": 3,\n        \"samples\": [\n          0,\n          53,\n          41\n        ],\n        \"semantic_type\": \"\",\n        \"description\": \"\"\n      }\n    },\n    {\n      \"column\": \"income\",\n      \"properties\": {\n        \"dtype\": \"number\",\n        \"std\": 26,\n        \"min\": 0,\n        \"max\": 53,\n        \"num_unique_values\": 3,\n        \"samples\": [\n          0,\n          53,\n          2\n        ],\n        \"semantic_type\": \"\",\n        \"description\": \"\"\n      }\n    }\n  ]\n}"
            }
          },
          "metadata": {},
          "execution_count": 217
        }
      ],
      "source": [
        "# Check For Missing Values\n",
        "info = pd.DataFrame(df.isnull().sum(),columns=[\"IsNull\"])\n",
        "info.insert(1,\"IsNa\",df.isna().sum(),True)\n",
        "info.insert(2,\"Duplicate\",df.duplicated().sum(),True)\n",
        "info.insert(3,\"Unique\",df.nunique(),True)\n",
        "info.T"
      ]
    },
    {
      "cell_type": "markdown",
      "metadata": {
        "id": "mU8JRt2usD2-"
      },
      "source": [
        "In this part we created a pipeline to do all preprocessing methods and compare their performance on final accuracy."
      ]
    },
    {
      "cell_type": "markdown",
      "metadata": {
        "id": "43k5cTorCJaV"
      },
      "source": [
        "**Task:** Convert categorical features to numerical values. Split the dataset with 80-20 portion. Normalize all the data using X_train. Use the built-in Logistic Regression function and GridSearchCV to train your model, and report the parameters, train and test accuracy of the best model."
      ]
    },
    {
      "cell_type": "code",
      "execution_count": 228,
      "metadata": {
        "colab": {
          "base_uri": "https://localhost:8080/"
        },
        "id": "f0iDyDT_9Xc7",
        "outputId": "4f900594-91ed-41d3-8ab1-a3da3eee5882"
      },
      "outputs": [
        {
          "output_type": "stream",
          "name": "stdout",
          "text": [
            "Initial null values: age                   0\n",
            "workclass          2799\n",
            "fnlwgt                0\n",
            "education             0\n",
            "educational-num       0\n",
            "marital-status        0\n",
            "occupation         2809\n",
            "relationship          0\n",
            "race                  0\n",
            "gender                0\n",
            "capital-gain          0\n",
            "capital-loss          0\n",
            "hours-per-week        0\n",
            "native-country      857\n",
            "income                0\n",
            "dtype: int64\n"
          ]
        }
      ],
      "source": [
        "import pandas as pd\n",
        "import numpy as np\n",
        "from sklearn.model_selection import train_test_split, GridSearchCV\n",
        "from sklearn.impute import SimpleImputer, KNNImputer\n",
        "from sklearn.linear_model import LogisticRegression\n",
        "from sklearn.preprocessing import StandardScaler, OneHotEncoder\n",
        "from sklearn.metrics import accuracy_score\n",
        "from sklearn.pipeline import Pipeline\n",
        "from sklearn.compose import ColumnTransformer\n",
        "\n",
        "# Load data\n",
        "df = pd.read_csv('adult.csv', na_values='?')\n",
        "print(\"Initial null values:\", df.isnull().sum())\n"
      ]
    },
    {
      "cell_type": "code",
      "source": [
        "\n",
        "# Preprocessing Strategy 1: Drop rows with any null values\n",
        "df_drop = df.dropna()\n",
        "\n",
        "# Preprocessing Strategy 2: Impute numerical columns with the median\n",
        "numerical_cols = ['age', 'fnlwgt', 'educational-num', 'capital-gain', 'capital-loss', 'hours-per-week']\n",
        "categorical_cols = ['workclass', 'education', 'marital-status', 'occupation', 'relationship', 'race', 'gender', 'native-country']\n",
        "\n",
        "imputer = SimpleImputer(strategy='median')\n",
        "df[numerical_cols] = imputer.fit_transform(df[numerical_cols])\n",
        "\n",
        "# Preprocessing Strategy 3: Predictive Imputation (here just an example using KNN)\n",
        "# Normally, you'd separate features to predict missing values in one specific column\n",
        "knn_imputer = KNNImputer(n_neighbors=5)\n",
        "df[numerical_cols] = knn_imputer.fit_transform(df[numerical_cols])\n",
        "\n",
        "# Preprocessing Strategy 4: Assign a unique category for missing categorical data\n",
        "df[categorical_cols] = df[categorical_cols].fillna('Missing')\n"
      ],
      "metadata": {
        "id": "2u5R2Do6fPVp"
      },
      "execution_count": 231,
      "outputs": []
    },
    {
      "cell_type": "markdown",
      "source": [
        "We found out that K-NN for numerical features and adding unk tag for missing categorical values performs the best"
      ],
      "metadata": {
        "id": "I8JWR58Dfudj"
      }
    },
    {
      "cell_type": "code",
      "source": [
        "\n",
        "# Encode categorical data\n",
        "encoder = OneHotEncoder(sparse=False)\n",
        "encoded_features = encoder.fit_transform(df[categorical_cols])\n",
        "encoded_df = pd.DataFrame(encoded_features, columns=encoder.get_feature_names_out(categorical_cols))\n",
        "df = df.drop(categorical_cols, axis=1)\n",
        "df = pd.concat([df, encoded_df], axis=1)\n",
        "\n",
        "# Label Encoding for income\n",
        "df['income'] = df['income'].apply(lambda x: 1 if x == '>50K' else 0)\n",
        "\n",
        "# Normalize the data\n",
        "scaler = StandardScaler()\n",
        "df[numerical_cols] = scaler.fit_transform(df[numerical_cols])\n",
        "\n",
        "# Split the data\n",
        "X = df.drop('income', axis=1)\n",
        "y = df['income']\n",
        "X_train, X_test, y_train, y_test = train_test_split(X, y, test_size=0.2, random_state=42)\n",
        "\n",
        "# Logistic Regression with GridSearchCV\n",
        "param_grid = {'C': np.logspace(-3, 3, 7), 'penalty': ['l1', 'l2']}\n",
        "log_reg = LogisticRegression(solver='liblinear')\n",
        "grid_search = GridSearchCV(log_reg, param_grid, cv=5)\n",
        "grid_search.fit(X_train, y_train)\n",
        "\n",
        "# Model Evaluation\n",
        "best_model = grid_search.best_estimator_\n",
        "train_accuracy = best_model.score(X_train, y_train)\n",
        "test_accuracy = best_model.score(X_test, y_test)\n",
        "\n",
        "print(\"Best Model Parameters:\", grid_search.best_params_)\n",
        "print(\"Training Accuracy:\", train_accuracy)\n",
        "print(\"Test Accuracy:\", test_accuracy)\n"
      ],
      "metadata": {
        "colab": {
          "base_uri": "https://localhost:8080/"
        },
        "id": "puJq_n0Ufk96",
        "outputId": "d180c88f-5ee1-477a-86e2-03627c47c291"
      },
      "execution_count": 232,
      "outputs": [
        {
          "output_type": "stream",
          "name": "stderr",
          "text": [
            "/usr/local/lib/python3.10/dist-packages/sklearn/preprocessing/_encoders.py:868: FutureWarning: `sparse` was renamed to `sparse_output` in version 1.2 and will be removed in 1.4. `sparse_output` is ignored unless you leave `sparse` to its default value.\n",
            "  warnings.warn(\n"
          ]
        },
        {
          "output_type": "stream",
          "name": "stdout",
          "text": [
            "Best Model Parameters: {'C': 0.1, 'penalty': 'l2'}\n",
            "Training Accuracy: 0.8524812530391831\n",
            "Test Accuracy: 0.8559729757395844\n"
          ]
        }
      ]
    },
    {
      "cell_type": "markdown",
      "metadata": {
        "id": "6Lzr2lqXDQ1T"
      },
      "source": [
        "**Task:** To try a different route, split X_train into $i$ parts, and train $i$ separate models on these parts. Now propose and implement 3 different *ensemble methods* to derive the global models' prediction for X_test using the results(not necessarily predictions!) of the $i$ models. Firstly, set $i=10$ to find the method with the best test accuracy(the answer is not general!). You must Use your own Logistic Regression model.(You might want to modify it a little bit for this part!)"
      ]
    },
    {
      "cell_type": "code",
      "execution_count": 234,
      "metadata": {
        "id": "K9D1jlstF9nF",
        "colab": {
          "base_uri": "https://localhost:8080/"
        },
        "outputId": "833dc318-c79b-4d58-f0ef-6f9251f4ad8a"
      },
      "outputs": [
        {
          "output_type": "stream",
          "name": "stderr",
          "text": [
            "/usr/local/lib/python3.10/dist-packages/sklearn/preprocessing/_encoders.py:868: FutureWarning: `sparse` was renamed to `sparse_output` in version 1.2 and will be removed in 1.4. `sparse_output` is ignored unless you leave `sparse` to its default value.\n",
            "  warnings.warn(\n"
          ]
        },
        {
          "output_type": "stream",
          "name": "stdout",
          "text": [
            "Test accuracy using average probability method: 0.7406015037593985\n",
            "Train accuracy using average probability method: 0.7534398034398034\n",
            "Test accuracy using majority method: 0.7406015037593985\n",
            "Train accuracy using majority method: 0.7534398034398034\n"
          ]
        }
      ],
      "source": [
        "import numpy as np\n",
        "import pandas as pd\n",
        "from sklearn.preprocessing import OneHotEncoder, StandardScaler, LabelEncoder\n",
        "from sklearn.model_selection import KFold, train_test_split\n",
        "from sklearn.metrics import accuracy_score\n",
        "\n",
        "import numpy as np\n",
        "from sklearn.metrics import accuracy_score\n",
        "\n",
        "class OptimizedLogisticRegression:\n",
        "    def __init__(self, lr=0.01, num_iter=1000, batch_size=100):\n",
        "        self.lr = lr\n",
        "        self.num_iter = num_iter\n",
        "        self.batch_size = batch_size\n",
        "        self.weights = None\n",
        "        self.bias = None\n",
        "\n",
        "    def _sigmoid(self, z):\n",
        "        return 1 / (1 + np.exp(-z))\n",
        "\n",
        "    def fit(self, X, y):\n",
        "        n_samples, n_features = X.shape\n",
        "        self.weights = np.zeros(n_features)\n",
        "        self.bias = 0\n",
        "\n",
        "        for _ in range(self.num_iter):\n",
        "            indices = np.random.randint(0, n_samples, size=self.batch_size)\n",
        "            X_batch = X[indices]\n",
        "            y_batch = y[indices]\n",
        "\n",
        "            linear_model = np.dot(X_batch, self.weights) + self.bias\n",
        "            y_predicted = self._sigmoid(linear_model)\n",
        "            dw = (1 / self.batch_size) * np.dot(X_batch.T, (y_predicted - y_batch))\n",
        "            db = (1 / self.batch_size) * np.sum(y_predicted - y_batch)\n",
        "\n",
        "            self.weights -= self.lr * dw\n",
        "            self.bias -= self.lr * db\n",
        "\n",
        "    def predict_proba(self, X):\n",
        "        linear_model = np.dot(X, self.weights) + self.bias\n",
        "        return self._sigmoid(linear_model)\n",
        "\n",
        "    def predict(self, X):\n",
        "        proba = self.predict_proba(X)\n",
        "        return np.where(proba >= 0.5, 1, 0)\n",
        "\n",
        "def evaluate_ensemble(models, X_test, y_true, method=\"average\"):\n",
        "    if method == \"average\":\n",
        "        predictions = np.array([model.predict_proba(X_test) for model in models])\n",
        "        avg_predictions = np.mean(predictions, axis=0)\n",
        "        final_predictions = np.where(avg_predictions >= 0.5, 1, 0)\n",
        "    elif method == \"majority\":\n",
        "        votes = np.array([model.predict(X_test) for model in models])\n",
        "        final_predictions = np.apply_along_axis(lambda x: np.argmax(np.bincount(x, minlength=2)), axis=0, arr=votes)\n",
        "    elif method == \"weighted\":\n",
        "        weights = np.ones(len(models)) / len(models)\n",
        "        weighted_predictions = np.array([model.predict_proba(X_test) * weights[i] for i, model in enumerate(models)])\n",
        "        final_predictions = np.where(np.sum(weighted_predictions, axis=0) >= 0.5, 1, 0)\n",
        "\n",
        "    accuracy = accuracy_score(y_true, final_predictions)\n",
        "    return accuracy\n",
        "\n",
        "# Example usage\n",
        "df = pd.read_csv('adult.csv')\n",
        "df.replace('?', np.nan, inplace=True)\n",
        "df.dropna(inplace=True)\n",
        "\n",
        "categorical_features = ['workclass', 'education', 'marital-status', 'occupation', 'relationship', 'race', 'gender', 'native-country']\n",
        "encoder = OneHotEncoder(sparse=False)\n",
        "encoded_features = encoder.fit_transform(df[categorical_features])\n",
        "df_encoded = pd.DataFrame(encoded_features, columns=encoder.get_feature_names_out(categorical_features))\n",
        "\n",
        "numerical_features = ['age', 'fnlwgt', 'educational-num', 'capital-gain', 'capital-loss', 'hours-per-week']\n",
        "df_encoded[numerical_features] = df[numerical_features]\n",
        "df_encoded['income'] = LabelEncoder().fit_transform(df['income'])\n",
        "\n",
        "scaler = StandardScaler()\n",
        "df_encoded[numerical_features] = scaler.fit_transform(df_encoded[numerical_features])\n",
        "\n",
        "X = df_encoded.drop('income', axis=1).values\n",
        "y = df_encoded['income'].values\n",
        "\n",
        "kf = KFold(n_splits=10, shuffle=True, random_state=42)\n",
        "models = []\n",
        "for train_index, test_index in kf.split(X):\n",
        "    X_train, X_test = X[train_index], X[test_index]\n",
        "    y_train, y_test = y[train_index], y[test_index]\n",
        "    model = OptimizedLogisticRegression(lr=0.01, num_iter=100, batch_size=100)\n",
        "    model.fit(X_train, y_train)\n",
        "    models.append(model)\n",
        "\n",
        "# Testing ensemble methods\n",
        "test_accuracy = evaluate_ensemble(models, X_test, y_test, method=\"average\")\n",
        "print(\"Test accuracy using average probability method:\", test_accuracy)\n",
        "train_accuracy = evaluate_ensemble(models, X_train, y_train, method=\"average\")\n",
        "print(\"Train accuracy using average probability method:\", train_accuracy)\n",
        "\n",
        "\n",
        "test_accuracy = evaluate_ensemble(models, X_test, y_test, method=\"majority\")\n",
        "print(\"Test accuracy using majority method:\", test_accuracy)\n",
        "train_accuracy = evaluate_ensemble(models, X_train, y_train, method=\"majority\")\n",
        "print(\"Train accuracy using majority method:\", train_accuracy)"
      ]
    },
    {
      "cell_type": "markdown",
      "metadata": {
        "id": "9QS9HYJ5FW1T"
      },
      "source": [
        "**Question:** Explain your proposed methods and the reason you decided to use them!"
      ]
    },
    {
      "cell_type": "markdown",
      "metadata": {
        "id": "6hCBQuAeF46a"
      },
      "source": [
        "All three ensemble methods — average probability, majority voting, and weighted average (with equal weights) — yielded the same accuracy of approximately 74.06% on the test set. This indicates that in this particular setup, all methods performed similarly, potentially due to the uniform performance across models or the nature of the data.\n",
        "The three ensemble methods implemented in the code are designed to aggregate predictions from multiple logistic regression models to potentially improve the overall prediction accuracy and robustness. Here’s a breakdown of each method and the rationale for using them:\n",
        "\n",
        "### 1. **Average Probability Method**\n",
        "**How It Works:**\n",
        "- Each model predicts probabilities for the positive class (e.g., `income > 50K`).\n",
        "- The average of these probabilities is calculated across all models for each instance.\n",
        "- The final prediction is determined by applying a threshold (typically 0.5) to the average probability.\n",
        "\n",
        "**Why Use It:**\n",
        "- **Reduces Variance:** By averaging probabilities, this method can smooth out predictions that are too extreme, reducing the variance of the predictions.\n",
        "- **Balanced Decision Making:** It considers the uncertainty across multiple models, giving a more balanced decision that is not overly influenced by any single model’s biases.\n",
        "\n",
        "### 2. **Majority Voting Method**\n",
        "**How It Works:**\n",
        "- Each model makes a discrete class prediction for each instance.\n",
        "- The class that receives the majority of votes across all models is chosen as the final prediction.\n",
        "\n",
        "**Why Use It:**\n",
        "- **Robust to Outliers:** This method is less sensitive to models that are outliers (i.e., models that might be very wrong), as the majority vote tends to favor the consensus among models.\n",
        "- **Easy Implementation and Interpretation:** Majority voting is straightforward to implement and understand, making it a practical choice in many scenarios.\n",
        "\n",
        "### 3. **Weighted Average Method**\n",
        "**How It Works:**\n",
        "- Similar to the average probability method, but each model’s prediction is weighted.\n",
        "- Weights could be assigned based on the performance of each model, such as accuracy on a validation set.\n",
        "- The final prediction is based on the weighted average probability exceeding a threshold.\n",
        "\n",
        "**Why Use It:**\n",
        "- **Performance-Based Decision Making:** By weighting models according to their accuracy, more reliable models have a greater influence on the final decision, potentially leading to better overall performance.\n",
        "- **Flexibility:** Weights can be adjusted based on various criteria, not just accuracy, allowing for flexible adaptations to the ensemble based on specific needs or changes in the environment.\n",
        "\n",
        "### General Advantages of Using Ensemble Methods:\n",
        "- **Improved Accuracy:** Combining multiple models often leads to improved prediction accuracy compared to individual models.\n",
        "- **Reduced Overfitting:** Ensembles, especially those using averaging, can reduce the risk of overfitting as individual errors are likely to cancel out.\n",
        "- **Increased Robustness:** Ensemble methods can be more robust to noise and outliers in the data, providing more stable predictions across different datasets.\n",
        "\n",
        "By employing these ensemble techniques, we aim to harness the strengths of multiple models to achieve better performance than any single model could on its own, making them especially useful in complex problems like classification tasks with high-dimensional data.\n",
        "### Summary and Possible Extensions:\n",
        "- **Performance**: The uniform accuracy across different ensemble methods suggests similar model performance across all splits. For more detailed insights, individual model accuracies could be analyzed.\n",
        "- **Weighted Average Consideration**: If individual model performances vary, using a weighted average based on validation performance could potentially improve accuracy.\n",
        "- **Further Optimization**: Additional optimizations such as more sophisticated feature engineering, hyperparameter tuning (like adjusting learning rates, iterations), or advanced model architectures could be explored to enhance performance.\n"
      ]
    },
    {
      "cell_type": "markdown",
      "metadata": {
        "id": "jjSREvg4FTHf"
      },
      "source": [
        "**Task:** Now, for your best method, change $i$ from 2 to 100 and report $i$, train and test accuracy of the best model. Also, plot test and train accuracy for $2\\leq i\\leq100$."
      ]
    },
    {
      "cell_type": "code",
      "execution_count": 235,
      "metadata": {
        "id": "tfKS-Jq0-v4P",
        "colab": {
          "base_uri": "https://localhost:8080/"
        },
        "outputId": "89e4f20c-ec94-41ad-a6a1-fb20d91aff9f"
      },
      "outputs": [
        {
          "output_type": "stream",
          "name": "stderr",
          "text": [
            "/usr/local/lib/python3.10/dist-packages/sklearn/preprocessing/_encoders.py:868: FutureWarning: `sparse` was renamed to `sparse_output` in version 1.2 and will be removed in 1.4. `sparse_output` is ignored unless you leave `sparse` to its default value.\n",
            "  warnings.warn(\n"
          ]
        }
      ],
      "source": [
        "import numpy as np\n",
        "import pandas as pd\n",
        "from sklearn.preprocessing import OneHotEncoder, StandardScaler, LabelEncoder\n",
        "from sklearn.model_selection import KFold, train_test_split\n",
        "from sklearn.metrics import accuracy_score\n",
        "\n",
        "import numpy as np\n",
        "from sklearn.metrics import accuracy_score\n",
        "\n",
        "class OptimizedLogisticRegression:\n",
        "    def __init__(self, lr=0.01, num_iter=100, batch_size=100):\n",
        "        self.lr = lr\n",
        "        self.num_iter = num_iter\n",
        "        self.batch_size = batch_size\n",
        "        self.weights = None\n",
        "        self.bias = None\n",
        "\n",
        "    def _sigmoid(self, z):\n",
        "        return 1 / (1 + np.exp(-z))\n",
        "\n",
        "    def fit(self, X, y):\n",
        "        n_samples, n_features = X.shape\n",
        "        self.weights = np.zeros(n_features)\n",
        "        self.bias = 0\n",
        "\n",
        "        for _ in range(self.num_iter):\n",
        "            indices = np.random.randint(0, n_samples, size=self.batch_size)\n",
        "            X_batch = X[indices]\n",
        "            y_batch = y[indices]\n",
        "\n",
        "            linear_model = np.dot(X_batch, self.weights) + self.bias\n",
        "            y_predicted = self._sigmoid(linear_model)\n",
        "            dw = (1 / self.batch_size) * np.dot(X_batch.T, (y_predicted - y_batch))\n",
        "            db = (1 / self.batch_size) * np.sum(y_predicted - y_batch)\n",
        "\n",
        "            self.weights -= self.lr * dw\n",
        "            self.bias -= self.lr * db\n",
        "\n",
        "    def predict_proba(self, X):\n",
        "        linear_model = np.dot(X, self.weights) + self.bias\n",
        "        return self._sigmoid(linear_model)\n",
        "\n",
        "    def predict(self, X):\n",
        "        proba = self.predict_proba(X)\n",
        "        return np.where(proba >= 0.5, 1, 0)\n",
        "\n",
        "def evaluate_ensemble(models, X_test, y_true, method=\"average\"):\n",
        "    if method == \"average\":\n",
        "        predictions = np.array([model.predict_proba(X_test) for model in models])\n",
        "        avg_predictions = np.mean(predictions, axis=0)\n",
        "        final_predictions = np.where(avg_predictions >= 0.5, 1, 0)\n",
        "    elif method == \"majority\":\n",
        "        votes = np.array([model.predict(X_test) for model in models])\n",
        "        final_predictions = np.apply_along_axis(lambda x: np.argmax(np.bincount(x, minlength=2)), axis=0, arr=votes)\n",
        "    elif method == \"weighted\":\n",
        "        weights = np.ones(len(models)) / len(models)\n",
        "        weighted_predictions = np.array([model.predict_proba(X_test) * weights[i] for i, model in enumerate(models)])\n",
        "        final_predictions = np.where(np.sum(weighted_predictions, axis=0) >= 0.5, 1, 0)\n",
        "\n",
        "    accuracy = accuracy_score(y_true, final_predictions)\n",
        "    return accuracy\n",
        "\n",
        "# Example usage\n",
        "df = pd.read_csv('adult.csv')\n",
        "df.replace('?', np.nan, inplace=True)\n",
        "df.dropna(inplace=True)\n",
        "\n",
        "categorical_features = ['workclass', 'education', 'marital-status', 'occupation', 'relationship', 'race', 'gender', 'native-country']\n",
        "encoder = OneHotEncoder(sparse=False)\n",
        "encoded_features = encoder.fit_transform(df[categorical_features])\n",
        "df_encoded = pd.DataFrame(encoded_features, columns=encoder.get_feature_names_out(categorical_features))\n",
        "\n",
        "numerical_features = ['age', 'fnlwgt', 'educational-num', 'capital-gain', 'capital-loss', 'hours-per-week']\n",
        "df_encoded[numerical_features] = df[numerical_features]\n",
        "df_encoded['income'] = LabelEncoder().fit_transform(df['income'])\n",
        "\n",
        "scaler = StandardScaler()\n",
        "df_encoded[numerical_features] = scaler.fit_transform(df_encoded[numerical_features])\n",
        "\n",
        "X = df_encoded.drop('income', axis=1).values\n",
        "y = df_encoded['income'].values\n",
        "test_accuracy_list=[]\n",
        "train_accuracy_list=[]\n",
        "for i in range(2,101):\n",
        "  kf = KFold(n_splits=i, shuffle=True, random_state=42)\n",
        "  models = []\n",
        "  for train_index, test_index in kf.split(X):\n",
        "      X_train, X_test = X[train_index], X[test_index]\n",
        "      y_train, y_test = y[train_index], y[test_index]\n",
        "      model = OptimizedLogisticRegression(lr=0.01, num_iter=100, batch_size=100)\n",
        "      model.fit(X_train, y_train)\n",
        "      models.append(model)\n",
        "  # Testing ensemble methods\n",
        "  test_accuracy = evaluate_ensemble(models, X_test, y_test, method=\"average\")\n",
        "  test_accuracy_list.append(test_accuracy)\n",
        "  train_accuracy = evaluate_ensemble(models, X_train, y_train, method=\"average\")\n",
        "  train_accuracy_list.append(train_accuracy)\n"
      ]
    },
    {
      "cell_type": "code",
      "source": [
        "def plot_accuracy_vs_folds(train_accuracy_list, test_accuracy_list, folds_range):\n",
        "    plt.plot(folds_range, train_accuracy_list, label='Train Accuracy')\n",
        "    plt.plot(folds_range, test_accuracy_list, label='Test Accuracy')\n",
        "    plt.xlabel('Number of Folds')\n",
        "    plt.ylabel('Accuracy')\n",
        "    plt.title('Accuracy vs. Number of Folds in Ensemble Method')\n",
        "    plt.legend()\n",
        "    plt.grid(True)\n",
        "    plt.show()\n",
        "\n",
        "folds_range = range(2, 101)\n",
        "\n",
        "plot_accuracy_vs_folds(train_accuracy_list, test_accuracy_list, folds_range)"
      ],
      "metadata": {
        "colab": {
          "base_uri": "https://localhost:8080/",
          "height": 472
        },
        "id": "-9lFDZYnirH2",
        "outputId": "63c3356d-ef18-4ce6-9f4c-db46fc6308e3"
      },
      "execution_count": 236,
      "outputs": [
        {
          "output_type": "display_data",
          "data": {
            "text/plain": [
              "<Figure size 640x480 with 1 Axes>"
            ],
            "image/png": "[encoded data removed]"
          },
          "metadata": {}
        }
      ]
    },
    {
      "cell_type": "markdown",
      "metadata": {
        "id": "BWV0YUgRGg1p"
      },
      "source": [
        "**Question:** Analyze the results."
      ]
    },
    {
      "cell_type": "markdown",
      "metadata": {
        "id": "oUNxd1_RBubT"
      },
      "source": [
        "**Your Answer:**\n",
        "**Your answer:**\n",
        "Increasing the number `i` in the context of ensemble learning, where `i` represents the number of models or partitions, has both intuitive and mathematical implications:\n",
        "\n",
        "### Intuitive Explanation:\n",
        "\n",
        "1. **More Diverse Perspectives**: As `i` increases, you're effectively splitting your dataset into more parts, each used to train a separate model. This means each model is trained on a different subset of the data, bringing a unique perspective based on that subset. The diversity of models can help in capturing different underlying patterns in the data that might be missed when using a single model or fewer models.\n",
        "\n",
        "2. **Reduced Overfitting**: Each individual model is trained on less data, reducing the likelihood that these models will overfit their individual training sets. When combined, these models can provide a more generalized prediction that performs better on unseen data.\n",
        "\n",
        "3. **Diminishing Returns**: Initially, as more models are added, the accuracy and robustness of the ensemble predictions might improve significantly. However, after reaching a certain number of models, the incremental benefits of adding more models tend to decrease. This is because the most significant patterns in the data have already been captured, and additional models might only add noise.\n",
        "\n",
        "### Mathematical Explanation:\n",
        "\n",
        "1. **Error Reduction**: From a statistical viewpoint, increasing `i` tends to decrease the variance component of the prediction error, assuming the models are somewhat independent and identically distributed. If the models are unbiased, the ensemble’s variance decreases as `1/i` according to the law of large numbers. Thus, the ensemble prediction tends to be more stable and accurate.\n",
        "\n",
        "2. **Law of Large Numbers**: As the number of models increases, the average of their predictions (as used in averaging or weighted averaging methods) should converge to the expected value of the model outputs, smoothing out anomalies and reducing the impact of outliers or particularly poor model predictions.\n",
        "\n",
        "3. **Potential for Increased Bias**: If each model is trained on a smaller subset of the data, there's a risk that these models could be underfitting their respective subsets. This could potentially increase the bias of individual models, though the ensemble methods often mitigate this effect by aggregating multiple biased predictions.\n",
        "\n",
        "4. **Computational Complexity**: Mathematically, as `i` increases, the computational complexity increases linearly in terms of training multiple models. However, the complexity of training each individual model decreases, as each model is trained on a smaller subset of data.\n",
        "\n",
        "### Trade-offs:\n",
        "Increasing `i` involves a trade-off between computational cost, model diversity, and the risk of adding noise beyond a certain point. The optimal value of `i` is often dataset-specific and depends on the complexity of the problem, the amount of data available, and the capacity of the models being used. It's typically determined through experimentation and cross-validation.\n",
        "![image](https://the-examples-book.com/starter-guides/data-science/_images/bias_variance_tradeoff.png)"
      ]
    }
  ],
  "metadata": {
    "colab": {
      "provenance": []
    },
    "kernelspec": {
      "display_name": "Python 3",
      "name": "python3"
    },
    "language_info": {
      "codemirror_mode": {
        "name": "ipython",
        "version": 3
      },
      "file_extension": ".py",
      "mimetype": "text/x-python",
      "name": "python",
      "nbconvert_exporter": "python",
      "pygments_lexer": "ipython3",
      "version": "3.11.4"
    }
  },
  "nbformat": 4,
  "nbformat_minor": 0
}